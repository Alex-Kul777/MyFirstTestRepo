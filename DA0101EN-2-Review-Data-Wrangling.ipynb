{
    "cells": [
        {
            "metadata": {},
            "cell_type": "markdown",
            "source": "<center>\n    <img src=\"https://cf-courses-data.s3.us.cloud-object-storage.appdomain.cloud/IBMDeveloperSkillsNetwork-DA0101EN-SkillsNetwork/labs/Module%202/images/IDSNlogo.png\" width=\"300\" alt=\"cognitiveclass.ai logo\"  />\n</center>\n\n# Data Wrangling\n\nEstimated time needed: **30** minutes\n\n## Objectives\n\nAfter completing this lab you will be able to:\n\n*   Handle missing values\n*   Correct data format\n*   Standardize and normalize data\n"
        },
        {
            "metadata": {},
            "cell_type": "markdown",
            "source": "<h2>Table of Contents</h2>\n\n<div class=\"alert alert-block alert-info\" style=\"margin-top: 20px\">\n<ul>\n    <li><a href=\"https://#identify_handle_missing_values\">Identify and handle missing values</a>\n        <ul>\n            <li><a href=\"https://#identify_missing_values\">Identify missing values</a></li>\n            <li><a href=\"https://#deal_missing_values\">Deal with missing values</a></li>\n            <li><a href=\"https://#correct_data_format\">Correct data format</a></li>\n        </ul>\n    </li>\n    <li><a href=\"https://#data_standardization\">Data standardization</a></li>\n    <li><a href=\"https://#data_normalization\">Data normalization (centering/scaling)</a></li>\n    <li><a href=\"https://#binning\">Binning</a></li>\n    <li><a href=\"https://#indicator\">Indicator variable</a></li>\n</ul>\n\n</div>\n\n<hr>\n"
        },
        {
            "metadata": {},
            "cell_type": "markdown",
            "source": "<h2>What is the purpose of data wrangling?</h2>\n"
        },
        {
            "metadata": {},
            "cell_type": "markdown",
            "source": "Data wrangling is the process of converting data from the initial format to a format that may be better for analysis.\n"
        },
        {
            "metadata": {},
            "cell_type": "markdown",
            "source": "<h3>What is the fuel consumption (L/100k) rate for the diesel car?</h3>\n"
        },
        {
            "metadata": {},
            "cell_type": "markdown",
            "source": "<h3>Import data</h3>\n<p>\nYou can find the \"Automobile Dataset\" from the following link: <a href=\"https://archive.ics.uci.edu/ml/machine-learning-databases/autos/imports-85.data?utm_medium=Exinfluencer&utm_source=Exinfluencer&utm_content=000026UJ&utm_term=10006555&utm_id=NA-SkillsNetwork-Channel-SkillsNetworkCoursesIBMDeveloperSkillsNetworkDA0101ENSkillsNetwork20235326-2021-01-01\">https://archive.ics.uci.edu/ml/machine-learning-databases/autos/imports-85.data</a>. \nWe will be using this dataset throughout this course.\n</p>\n"
        },
        {
            "metadata": {},
            "cell_type": "markdown",
            "source": "<h4>Import pandas</h4> \n"
        },
        {
            "metadata": {},
            "cell_type": "code",
            "source": "#install specific version of libraries used in lab\n#! mamba install pandas==1.3.3\n#! mamba install numpy=1.21.2\n",
            "execution_count": 1,
            "outputs": []
        },
        {
            "metadata": {},
            "cell_type": "code",
            "source": "import pandas as pd\nimport matplotlib.pylab as plt",
            "execution_count": 2,
            "outputs": []
        },
        {
            "metadata": {},
            "cell_type": "markdown",
            "source": "<h2>Reading the dataset from the URL and adding the related headers</h2>\n"
        },
        {
            "metadata": {},
            "cell_type": "markdown",
            "source": "First, we assign the URL of the dataset to \"filename\".\n"
        },
        {
            "metadata": {},
            "cell_type": "markdown",
            "source": "This dataset was hosted on IBM Cloud object. Click <a href=\"https://cocl.us/corsera_da0101en_notebook_bottom?utm_medium=Exinfluencer&utm_source=Exinfluencer&utm_content=000026UJ&utm_term=10006555&utm_id=NA-SkillsNetwork-Channel-SkillsNetworkCoursesIBMDeveloperSkillsNetworkDA0101ENSkillsNetwork20235326-2021-01-01\">HERE</a> for free storage.\n"
        },
        {
            "metadata": {},
            "cell_type": "code",
            "source": "filename = \"https://cf-courses-data.s3.us.cloud-object-storage.appdomain.cloud/IBMDeveloperSkillsNetwork-DA0101EN-SkillsNetwork/labs/Data%20files/auto.csv\"",
            "execution_count": 3,
            "outputs": []
        },
        {
            "metadata": {},
            "cell_type": "markdown",
            "source": "Then, we create a Python list <b>headers</b> containing name of headers.\n"
        },
        {
            "metadata": {},
            "cell_type": "code",
            "source": "headers = [\"symboling\",\"normalized-losses\",\"make\",\"fuel-type\",\"aspiration\", \"num-of-doors\",\"body-style\",\n         \"drive-wheels\",\"engine-location\",\"wheel-base\", \"length\",\"width\",\"height\",\"curb-weight\",\"engine-type\",\n         \"num-of-cylinders\", \"engine-size\",\"fuel-system\",\"bore\",\"stroke\",\"compression-ratio\",\"horsepower\",\n         \"peak-rpm\",\"city-mpg\",\"highway-mpg\",\"price\"]",
            "execution_count": 4,
            "outputs": []
        },
        {
            "metadata": {},
            "cell_type": "markdown",
            "source": "Use the Pandas method <b>read_csv()</b> to load the data from the web address. Set the parameter  \"names\" equal to the Python list \"headers\".\n"
        },
        {
            "metadata": {},
            "cell_type": "code",
            "source": "df = pd.read_csv(filename, names = headers)",
            "execution_count": 5,
            "outputs": []
        },
        {
            "metadata": {},
            "cell_type": "markdown",
            "source": "Use the method <b>head()</b> to display the first five rows of the dataframe.\n"
        },
        {
            "metadata": {},
            "cell_type": "code",
            "source": "# To see what the data set looks like, we'll use the head() method.\ndf.head()",
            "execution_count": 6,
            "outputs": [
                {
                    "output_type": "execute_result",
                    "execution_count": 6,
                    "data": {
                        "text/plain": "   symboling normalized-losses         make fuel-type aspiration num-of-doors  \\\n0          3                 ?  alfa-romero       gas        std          two   \n1          3                 ?  alfa-romero       gas        std          two   \n2          1                 ?  alfa-romero       gas        std          two   \n3          2               164         audi       gas        std         four   \n4          2               164         audi       gas        std         four   \n\n    body-style drive-wheels engine-location  wheel-base  ...  engine-size  \\\n0  convertible          rwd           front        88.6  ...          130   \n1  convertible          rwd           front        88.6  ...          130   \n2    hatchback          rwd           front        94.5  ...          152   \n3        sedan          fwd           front        99.8  ...          109   \n4        sedan          4wd           front        99.4  ...          136   \n\n   fuel-system  bore  stroke compression-ratio horsepower  peak-rpm city-mpg  \\\n0         mpfi  3.47    2.68               9.0        111      5000       21   \n1         mpfi  3.47    2.68               9.0        111      5000       21   \n2         mpfi  2.68    3.47               9.0        154      5000       19   \n3         mpfi  3.19    3.40              10.0        102      5500       24   \n4         mpfi  3.19    3.40               8.0        115      5500       18   \n\n  highway-mpg  price  \n0          27  13495  \n1          27  16500  \n2          26  16500  \n3          30  13950  \n4          22  17450  \n\n[5 rows x 26 columns]",
                        "text/html": "<div>\n<style scoped>\n    .dataframe tbody tr th:only-of-type {\n        vertical-align: middle;\n    }\n\n    .dataframe tbody tr th {\n        vertical-align: top;\n    }\n\n    .dataframe thead th {\n        text-align: right;\n    }\n</style>\n<table border=\"1\" class=\"dataframe\">\n  <thead>\n    <tr style=\"text-align: right;\">\n      <th></th>\n      <th>symboling</th>\n      <th>normalized-losses</th>\n      <th>make</th>\n      <th>fuel-type</th>\n      <th>aspiration</th>\n      <th>num-of-doors</th>\n      <th>body-style</th>\n      <th>drive-wheels</th>\n      <th>engine-location</th>\n      <th>wheel-base</th>\n      <th>...</th>\n      <th>engine-size</th>\n      <th>fuel-system</th>\n      <th>bore</th>\n      <th>stroke</th>\n      <th>compression-ratio</th>\n      <th>horsepower</th>\n      <th>peak-rpm</th>\n      <th>city-mpg</th>\n      <th>highway-mpg</th>\n      <th>price</th>\n    </tr>\n  </thead>\n  <tbody>\n    <tr>\n      <th>0</th>\n      <td>3</td>\n      <td>?</td>\n      <td>alfa-romero</td>\n      <td>gas</td>\n      <td>std</td>\n      <td>two</td>\n      <td>convertible</td>\n      <td>rwd</td>\n      <td>front</td>\n      <td>88.6</td>\n      <td>...</td>\n      <td>130</td>\n      <td>mpfi</td>\n      <td>3.47</td>\n      <td>2.68</td>\n      <td>9.0</td>\n      <td>111</td>\n      <td>5000</td>\n      <td>21</td>\n      <td>27</td>\n      <td>13495</td>\n    </tr>\n    <tr>\n      <th>1</th>\n      <td>3</td>\n      <td>?</td>\n      <td>alfa-romero</td>\n      <td>gas</td>\n      <td>std</td>\n      <td>two</td>\n      <td>convertible</td>\n      <td>rwd</td>\n      <td>front</td>\n      <td>88.6</td>\n      <td>...</td>\n      <td>130</td>\n      <td>mpfi</td>\n      <td>3.47</td>\n      <td>2.68</td>\n      <td>9.0</td>\n      <td>111</td>\n      <td>5000</td>\n      <td>21</td>\n      <td>27</td>\n      <td>16500</td>\n    </tr>\n    <tr>\n      <th>2</th>\n      <td>1</td>\n      <td>?</td>\n      <td>alfa-romero</td>\n      <td>gas</td>\n      <td>std</td>\n      <td>two</td>\n      <td>hatchback</td>\n      <td>rwd</td>\n      <td>front</td>\n      <td>94.5</td>\n      <td>...</td>\n      <td>152</td>\n      <td>mpfi</td>\n      <td>2.68</td>\n      <td>3.47</td>\n      <td>9.0</td>\n      <td>154</td>\n      <td>5000</td>\n      <td>19</td>\n      <td>26</td>\n      <td>16500</td>\n    </tr>\n    <tr>\n      <th>3</th>\n      <td>2</td>\n      <td>164</td>\n      <td>audi</td>\n      <td>gas</td>\n      <td>std</td>\n      <td>four</td>\n      <td>sedan</td>\n      <td>fwd</td>\n      <td>front</td>\n      <td>99.8</td>\n      <td>...</td>\n      <td>109</td>\n      <td>mpfi</td>\n      <td>3.19</td>\n      <td>3.40</td>\n      <td>10.0</td>\n      <td>102</td>\n      <td>5500</td>\n      <td>24</td>\n      <td>30</td>\n      <td>13950</td>\n    </tr>\n    <tr>\n      <th>4</th>\n      <td>2</td>\n      <td>164</td>\n      <td>audi</td>\n      <td>gas</td>\n      <td>std</td>\n      <td>four</td>\n      <td>sedan</td>\n      <td>4wd</td>\n      <td>front</td>\n      <td>99.4</td>\n      <td>...</td>\n      <td>136</td>\n      <td>mpfi</td>\n      <td>3.19</td>\n      <td>3.40</td>\n      <td>8.0</td>\n      <td>115</td>\n      <td>5500</td>\n      <td>18</td>\n      <td>22</td>\n      <td>17450</td>\n    </tr>\n  </tbody>\n</table>\n<p>5 rows \u00d7 26 columns</p>\n</div>"
                    },
                    "metadata": {}
                }
            ]
        },
        {
            "metadata": {},
            "cell_type": "markdown",
            "source": "As we can see, several question marks appeared in the dataframe; those are missing values which may hinder our further analysis.\n\n<div>So, how do we identify all those missing values and deal with them?</div> \n\n<b>How to work with missing data?</b>\n\nSteps for working with missing data:\n\n<ol>\n    <li>Identify missing data</li>\n    <li>Deal with missing data</li>\n    <li>Correct data format</li>\n</ol>\n"
        },
        {
            "metadata": {},
            "cell_type": "markdown",
            "source": "<h2 id=\"identify_handle_missing_values\">Identify and handle missing values</h2>\n\n<h3 id=\"identify_missing_values\">Identify missing values</h3>\n<h4>Convert \"?\" to NaN</h4>\nIn the car dataset, missing data comes with the question mark \"?\".\nWe replace \"?\" with NaN (Not a Number), Python's default missing value marker for reasons of computational speed and convenience. Here we use the function: \n <pre>.replace(A, B, inplace = True) </pre>\nto replace A by B.\n"
        },
        {
            "metadata": {},
            "cell_type": "code",
            "source": "import numpy as np\n\n# replace \"?\" to NaN\ndf.replace(\"?\", np.nan, inplace = True)\ndf.head(5)",
            "execution_count": 7,
            "outputs": [
                {
                    "output_type": "execute_result",
                    "execution_count": 7,
                    "data": {
                        "text/plain": "   symboling normalized-losses         make fuel-type aspiration num-of-doors  \\\n0          3               NaN  alfa-romero       gas        std          two   \n1          3               NaN  alfa-romero       gas        std          two   \n2          1               NaN  alfa-romero       gas        std          two   \n3          2               164         audi       gas        std         four   \n4          2               164         audi       gas        std         four   \n\n    body-style drive-wheels engine-location  wheel-base  ...  engine-size  \\\n0  convertible          rwd           front        88.6  ...          130   \n1  convertible          rwd           front        88.6  ...          130   \n2    hatchback          rwd           front        94.5  ...          152   \n3        sedan          fwd           front        99.8  ...          109   \n4        sedan          4wd           front        99.4  ...          136   \n\n   fuel-system  bore  stroke compression-ratio horsepower  peak-rpm city-mpg  \\\n0         mpfi  3.47    2.68               9.0        111      5000       21   \n1         mpfi  3.47    2.68               9.0        111      5000       21   \n2         mpfi  2.68    3.47               9.0        154      5000       19   \n3         mpfi  3.19    3.40              10.0        102      5500       24   \n4         mpfi  3.19    3.40               8.0        115      5500       18   \n\n  highway-mpg  price  \n0          27  13495  \n1          27  16500  \n2          26  16500  \n3          30  13950  \n4          22  17450  \n\n[5 rows x 26 columns]",
                        "text/html": "<div>\n<style scoped>\n    .dataframe tbody tr th:only-of-type {\n        vertical-align: middle;\n    }\n\n    .dataframe tbody tr th {\n        vertical-align: top;\n    }\n\n    .dataframe thead th {\n        text-align: right;\n    }\n</style>\n<table border=\"1\" class=\"dataframe\">\n  <thead>\n    <tr style=\"text-align: right;\">\n      <th></th>\n      <th>symboling</th>\n      <th>normalized-losses</th>\n      <th>make</th>\n      <th>fuel-type</th>\n      <th>aspiration</th>\n      <th>num-of-doors</th>\n      <th>body-style</th>\n      <th>drive-wheels</th>\n      <th>engine-location</th>\n      <th>wheel-base</th>\n      <th>...</th>\n      <th>engine-size</th>\n      <th>fuel-system</th>\n      <th>bore</th>\n      <th>stroke</th>\n      <th>compression-ratio</th>\n      <th>horsepower</th>\n      <th>peak-rpm</th>\n      <th>city-mpg</th>\n      <th>highway-mpg</th>\n      <th>price</th>\n    </tr>\n  </thead>\n  <tbody>\n    <tr>\n      <th>0</th>\n      <td>3</td>\n      <td>NaN</td>\n      <td>alfa-romero</td>\n      <td>gas</td>\n      <td>std</td>\n      <td>two</td>\n      <td>convertible</td>\n      <td>rwd</td>\n      <td>front</td>\n      <td>88.6</td>\n      <td>...</td>\n      <td>130</td>\n      <td>mpfi</td>\n      <td>3.47</td>\n      <td>2.68</td>\n      <td>9.0</td>\n      <td>111</td>\n      <td>5000</td>\n      <td>21</td>\n      <td>27</td>\n      <td>13495</td>\n    </tr>\n    <tr>\n      <th>1</th>\n      <td>3</td>\n      <td>NaN</td>\n      <td>alfa-romero</td>\n      <td>gas</td>\n      <td>std</td>\n      <td>two</td>\n      <td>convertible</td>\n      <td>rwd</td>\n      <td>front</td>\n      <td>88.6</td>\n      <td>...</td>\n      <td>130</td>\n      <td>mpfi</td>\n      <td>3.47</td>\n      <td>2.68</td>\n      <td>9.0</td>\n      <td>111</td>\n      <td>5000</td>\n      <td>21</td>\n      <td>27</td>\n      <td>16500</td>\n    </tr>\n    <tr>\n      <th>2</th>\n      <td>1</td>\n      <td>NaN</td>\n      <td>alfa-romero</td>\n      <td>gas</td>\n      <td>std</td>\n      <td>two</td>\n      <td>hatchback</td>\n      <td>rwd</td>\n      <td>front</td>\n      <td>94.5</td>\n      <td>...</td>\n      <td>152</td>\n      <td>mpfi</td>\n      <td>2.68</td>\n      <td>3.47</td>\n      <td>9.0</td>\n      <td>154</td>\n      <td>5000</td>\n      <td>19</td>\n      <td>26</td>\n      <td>16500</td>\n    </tr>\n    <tr>\n      <th>3</th>\n      <td>2</td>\n      <td>164</td>\n      <td>audi</td>\n      <td>gas</td>\n      <td>std</td>\n      <td>four</td>\n      <td>sedan</td>\n      <td>fwd</td>\n      <td>front</td>\n      <td>99.8</td>\n      <td>...</td>\n      <td>109</td>\n      <td>mpfi</td>\n      <td>3.19</td>\n      <td>3.40</td>\n      <td>10.0</td>\n      <td>102</td>\n      <td>5500</td>\n      <td>24</td>\n      <td>30</td>\n      <td>13950</td>\n    </tr>\n    <tr>\n      <th>4</th>\n      <td>2</td>\n      <td>164</td>\n      <td>audi</td>\n      <td>gas</td>\n      <td>std</td>\n      <td>four</td>\n      <td>sedan</td>\n      <td>4wd</td>\n      <td>front</td>\n      <td>99.4</td>\n      <td>...</td>\n      <td>136</td>\n      <td>mpfi</td>\n      <td>3.19</td>\n      <td>3.40</td>\n      <td>8.0</td>\n      <td>115</td>\n      <td>5500</td>\n      <td>18</td>\n      <td>22</td>\n      <td>17450</td>\n    </tr>\n  </tbody>\n</table>\n<p>5 rows \u00d7 26 columns</p>\n</div>"
                    },
                    "metadata": {}
                }
            ]
        },
        {
            "metadata": {},
            "cell_type": "markdown",
            "source": "<h4>Evaluating for Missing Data</h4>\n\nThe missing values are converted by default. We use the following functions to identify these missing values. There are two methods to detect missing data:\n\n<ol>\n    <li><b>.isnull()</b></li>\n    <li><b>.notnull()</b></li>\n</ol>\nThe output is a boolean value indicating whether the value that is passed into the argument is in fact missing data.\n"
        },
        {
            "metadata": {},
            "cell_type": "code",
            "source": "missing_data = df.isnull()\nmissing_data.head(5)",
            "execution_count": 8,
            "outputs": [
                {
                    "output_type": "execute_result",
                    "execution_count": 8,
                    "data": {
                        "text/plain": "   symboling  normalized-losses   make  fuel-type  aspiration  num-of-doors  \\\n0      False               True  False      False       False         False   \n1      False               True  False      False       False         False   \n2      False               True  False      False       False         False   \n3      False              False  False      False       False         False   \n4      False              False  False      False       False         False   \n\n   body-style  drive-wheels  engine-location  wheel-base  ...  engine-size  \\\n0       False         False            False       False  ...        False   \n1       False         False            False       False  ...        False   \n2       False         False            False       False  ...        False   \n3       False         False            False       False  ...        False   \n4       False         False            False       False  ...        False   \n\n   fuel-system   bore  stroke  compression-ratio  horsepower  peak-rpm  \\\n0        False  False   False              False       False     False   \n1        False  False   False              False       False     False   \n2        False  False   False              False       False     False   \n3        False  False   False              False       False     False   \n4        False  False   False              False       False     False   \n\n   city-mpg  highway-mpg  price  \n0     False        False  False  \n1     False        False  False  \n2     False        False  False  \n3     False        False  False  \n4     False        False  False  \n\n[5 rows x 26 columns]",
                        "text/html": "<div>\n<style scoped>\n    .dataframe tbody tr th:only-of-type {\n        vertical-align: middle;\n    }\n\n    .dataframe tbody tr th {\n        vertical-align: top;\n    }\n\n    .dataframe thead th {\n        text-align: right;\n    }\n</style>\n<table border=\"1\" class=\"dataframe\">\n  <thead>\n    <tr style=\"text-align: right;\">\n      <th></th>\n      <th>symboling</th>\n      <th>normalized-losses</th>\n      <th>make</th>\n      <th>fuel-type</th>\n      <th>aspiration</th>\n      <th>num-of-doors</th>\n      <th>body-style</th>\n      <th>drive-wheels</th>\n      <th>engine-location</th>\n      <th>wheel-base</th>\n      <th>...</th>\n      <th>engine-size</th>\n      <th>fuel-system</th>\n      <th>bore</th>\n      <th>stroke</th>\n      <th>compression-ratio</th>\n      <th>horsepower</th>\n      <th>peak-rpm</th>\n      <th>city-mpg</th>\n      <th>highway-mpg</th>\n      <th>price</th>\n    </tr>\n  </thead>\n  <tbody>\n    <tr>\n      <th>0</th>\n      <td>False</td>\n      <td>True</td>\n      <td>False</td>\n      <td>False</td>\n      <td>False</td>\n      <td>False</td>\n      <td>False</td>\n      <td>False</td>\n      <td>False</td>\n      <td>False</td>\n      <td>...</td>\n      <td>False</td>\n      <td>False</td>\n      <td>False</td>\n      <td>False</td>\n      <td>False</td>\n      <td>False</td>\n      <td>False</td>\n      <td>False</td>\n      <td>False</td>\n      <td>False</td>\n    </tr>\n    <tr>\n      <th>1</th>\n      <td>False</td>\n      <td>True</td>\n      <td>False</td>\n      <td>False</td>\n      <td>False</td>\n      <td>False</td>\n      <td>False</td>\n      <td>False</td>\n      <td>False</td>\n      <td>False</td>\n      <td>...</td>\n      <td>False</td>\n      <td>False</td>\n      <td>False</td>\n      <td>False</td>\n      <td>False</td>\n      <td>False</td>\n      <td>False</td>\n      <td>False</td>\n      <td>False</td>\n      <td>False</td>\n    </tr>\n    <tr>\n      <th>2</th>\n      <td>False</td>\n      <td>True</td>\n      <td>False</td>\n      <td>False</td>\n      <td>False</td>\n      <td>False</td>\n      <td>False</td>\n      <td>False</td>\n      <td>False</td>\n      <td>False</td>\n      <td>...</td>\n      <td>False</td>\n      <td>False</td>\n      <td>False</td>\n      <td>False</td>\n      <td>False</td>\n      <td>False</td>\n      <td>False</td>\n      <td>False</td>\n      <td>False</td>\n      <td>False</td>\n    </tr>\n    <tr>\n      <th>3</th>\n      <td>False</td>\n      <td>False</td>\n      <td>False</td>\n      <td>False</td>\n      <td>False</td>\n      <td>False</td>\n      <td>False</td>\n      <td>False</td>\n      <td>False</td>\n      <td>False</td>\n      <td>...</td>\n      <td>False</td>\n      <td>False</td>\n      <td>False</td>\n      <td>False</td>\n      <td>False</td>\n      <td>False</td>\n      <td>False</td>\n      <td>False</td>\n      <td>False</td>\n      <td>False</td>\n    </tr>\n    <tr>\n      <th>4</th>\n      <td>False</td>\n      <td>False</td>\n      <td>False</td>\n      <td>False</td>\n      <td>False</td>\n      <td>False</td>\n      <td>False</td>\n      <td>False</td>\n      <td>False</td>\n      <td>False</td>\n      <td>...</td>\n      <td>False</td>\n      <td>False</td>\n      <td>False</td>\n      <td>False</td>\n      <td>False</td>\n      <td>False</td>\n      <td>False</td>\n      <td>False</td>\n      <td>False</td>\n      <td>False</td>\n    </tr>\n  </tbody>\n</table>\n<p>5 rows \u00d7 26 columns</p>\n</div>"
                    },
                    "metadata": {}
                }
            ]
        },
        {
            "metadata": {},
            "cell_type": "markdown",
            "source": "\"True\" means the value is a missing value while \"False\" means the value is not a missing value.\n"
        },
        {
            "metadata": {},
            "cell_type": "markdown",
            "source": "<h4>Count missing values in each column</h4>\n<p>\nUsing a for loop in Python, we can quickly figure out the number of missing values in each column. As mentioned above, \"True\" represents a missing value and \"False\" means the value is present in the dataset.  In the body of the for loop the method \".value_counts()\" counts the number of \"True\" values. \n</p>\n"
        },
        {
            "metadata": {},
            "cell_type": "code",
            "source": "for column in missing_data.columns.values.tolist():\n    print(column)\n    print (missing_data[column].value_counts())\n    print(\"\")    ",
            "execution_count": 9,
            "outputs": [
                {
                    "output_type": "stream",
                    "text": "symboling\nFalse    205\nName: symboling, dtype: int64\n\nnormalized-losses\nFalse    164\nTrue      41\nName: normalized-losses, dtype: int64\n\nmake\nFalse    205\nName: make, dtype: int64\n\nfuel-type\nFalse    205\nName: fuel-type, dtype: int64\n\naspiration\nFalse    205\nName: aspiration, dtype: int64\n\nnum-of-doors\nFalse    203\nTrue       2\nName: num-of-doors, dtype: int64\n\nbody-style\nFalse    205\nName: body-style, dtype: int64\n\ndrive-wheels\nFalse    205\nName: drive-wheels, dtype: int64\n\nengine-location\nFalse    205\nName: engine-location, dtype: int64\n\nwheel-base\nFalse    205\nName: wheel-base, dtype: int64\n\nlength\nFalse    205\nName: length, dtype: int64\n\nwidth\nFalse    205\nName: width, dtype: int64\n\nheight\nFalse    205\nName: height, dtype: int64\n\ncurb-weight\nFalse    205\nName: curb-weight, dtype: int64\n\nengine-type\nFalse    205\nName: engine-type, dtype: int64\n\nnum-of-cylinders\nFalse    205\nName: num-of-cylinders, dtype: int64\n\nengine-size\nFalse    205\nName: engine-size, dtype: int64\n\nfuel-system\nFalse    205\nName: fuel-system, dtype: int64\n\nbore\nFalse    201\nTrue       4\nName: bore, dtype: int64\n\nstroke\nFalse    201\nTrue       4\nName: stroke, dtype: int64\n\ncompression-ratio\nFalse    205\nName: compression-ratio, dtype: int64\n\nhorsepower\nFalse    203\nTrue       2\nName: horsepower, dtype: int64\n\npeak-rpm\nFalse    203\nTrue       2\nName: peak-rpm, dtype: int64\n\ncity-mpg\nFalse    205\nName: city-mpg, dtype: int64\n\nhighway-mpg\nFalse    205\nName: highway-mpg, dtype: int64\n\nprice\nFalse    201\nTrue       4\nName: price, dtype: int64\n\n",
                    "name": "stdout"
                }
            ]
        },
        {
            "metadata": {},
            "cell_type": "markdown",
            "source": "Based on the summary above, each column has 205 rows of data and seven of the columns containing missing data:\n\n<ol>\n    <li>\"normalized-losses\": 41 missing data</li>\n    <li>\"num-of-doors\": 2 missing data</li>\n    <li>\"bore\": 4 missing data</li>\n    <li>\"stroke\" : 4 missing data</li>\n    <li>\"horsepower\": 2 missing data</li>\n    <li>\"peak-rpm\": 2 missing data</li>\n    <li>\"price\": 4 missing data</li>\n</ol>\n"
        },
        {
            "metadata": {},
            "cell_type": "markdown",
            "source": "<h3 id=\"deal_missing_values\">Deal with missing data</h3>\n<b>How to deal with missing data?</b>\n\n<ol>\n    <li>Drop data<br>\n        a. Drop the whole row<br>\n        b. Drop the whole column\n    </li>\n    <li>Replace data<br>\n        a. Replace it by mean<br>\n        b. Replace it by frequency<br>\n        c. Replace it based on other functions\n    </li>\n</ol>\n"
        },
        {
            "metadata": {},
            "cell_type": "markdown",
            "source": "Whole columns should be dropped only if most entries in the column are empty. In our dataset, none of the columns are empty enough to drop entirely.\nWe have some freedom in choosing which method to replace data; however, some methods may seem more reasonable than others. We will apply each method to many different columns:\n\n<b>Replace by mean:</b>\n\n<ul>\n    <li>\"normalized-losses\": 41 missing data, replace them with mean</li>\n    <li>\"stroke\": 4 missing data, replace them with mean</li>\n    <li>\"bore\": 4 missing data, replace them with mean</li>\n    <li>\"horsepower\": 2 missing data, replace them with mean</li>\n    <li>\"peak-rpm\": 2 missing data, replace them with mean</li>\n</ul>\n\n<b>Replace by frequency:</b>\n\n<ul>\n    <li>\"num-of-doors\": 2 missing data, replace them with \"four\". \n        <ul>\n            <li>Reason: 84% sedans is four doors. Since four doors is most frequent, it is most likely to occur</li>\n        </ul>\n    </li>\n</ul>\n\n<b>Drop the whole row:</b>\n\n<ul>\n    <li>\"price\": 4 missing data, simply delete the whole row\n        <ul>\n            <li>Reason: price is what we want to predict. Any data entry without price data cannot be used for prediction; therefore any row now without price data is not useful to us</li>\n        </ul>\n    </li>\n</ul>\n"
        },
        {
            "metadata": {},
            "cell_type": "markdown",
            "source": "<h4>Calculate the mean value for the \"normalized-losses\" column </h4>\n"
        },
        {
            "metadata": {},
            "cell_type": "code",
            "source": "avg_norm_loss = df[\"normalized-losses\"].astype(\"float\").mean(axis=0)\nprint(\"Average of normalized-losses:\", avg_norm_loss)",
            "execution_count": 10,
            "outputs": [
                {
                    "output_type": "stream",
                    "text": "Average of normalized-losses: 122.0\n",
                    "name": "stdout"
                }
            ]
        },
        {
            "metadata": {},
            "cell_type": "markdown",
            "source": "<h4>Replace \"NaN\" with mean value in \"normalized-losses\" column</h4>\n"
        },
        {
            "metadata": {},
            "cell_type": "code",
            "source": "df[\"normalized-losses\"].replace(np.nan, avg_norm_loss, inplace=True)",
            "execution_count": 11,
            "outputs": []
        },
        {
            "metadata": {},
            "cell_type": "markdown",
            "source": "<h4>Calculate the mean value for the \"bore\" column</h4>\n"
        },
        {
            "metadata": {},
            "cell_type": "code",
            "source": "avg_bore=df['bore'].astype('float').mean(axis=0)\nprint(\"Average of bore:\", avg_bore)",
            "execution_count": 12,
            "outputs": [
                {
                    "output_type": "stream",
                    "text": "Average of bore: 3.3297512437810943\n",
                    "name": "stdout"
                }
            ]
        },
        {
            "metadata": {},
            "cell_type": "markdown",
            "source": "<h4>Replace \"NaN\" with the mean value in the \"bore\" column</h4>\n"
        },
        {
            "metadata": {},
            "cell_type": "code",
            "source": "df[\"bore\"].replace(np.nan, avg_bore, inplace=True)",
            "execution_count": 13,
            "outputs": []
        },
        {
            "metadata": {},
            "cell_type": "markdown",
            "source": "<div class=\"alert alert-danger alertdanger\" style=\"margin-top: 20px\">\n<h1> Question  #1: </h1>\n\n<b>Based on the example above, replace NaN in \"stroke\" column with the mean value.</b>\n\n</div>\n"
        },
        {
            "metadata": {},
            "cell_type": "code",
            "source": "# Write your code below and press Shift+Enter to execute \n#Calculate the mean vaule for \"stroke\" column\navg_stroke = df[\"stroke\"].astype(\"float\").mean(axis = 0)\nprint(\"Average of stroke:\", avg_stroke)\n\n# replace NaN by mean value in \"stroke\" column\ndf[\"stroke\"].replace(np.nan, avg_stroke, inplace = True)",
            "execution_count": 48,
            "outputs": [
                {
                    "output_type": "stream",
                    "text": "Average of stroke: 3.256903553299492\n",
                    "name": "stdout"
                }
            ]
        },
        {
            "metadata": {},
            "cell_type": "markdown",
            "source": "<details><summary>Click here for the solution</summary>\n\n```python\n#Calculate the mean vaule for \"stroke\" column\navg_stroke = df[\"stroke\"].astype(\"float\").mean(axis = 0)\nprint(\"Average of stroke:\", avg_stroke)\n\n# replace NaN by mean value in \"stroke\" column\ndf[\"stroke\"].replace(np.nan, avg_stroke, inplace = True)\n```\n\n</details>\n"
        },
        {
            "metadata": {},
            "cell_type": "markdown",
            "source": "<h4>Calculate the mean value for the \"horsepower\" column</h4>\n"
        },
        {
            "metadata": {},
            "cell_type": "code",
            "source": "avg_horsepower = df['horsepower'].astype('float').mean(axis=0)\nprint(\"Average horsepower:\", avg_horsepower)",
            "execution_count": 15,
            "outputs": [
                {
                    "output_type": "stream",
                    "text": "Average horsepower: 104.25615763546799\n",
                    "name": "stdout"
                }
            ]
        },
        {
            "metadata": {},
            "cell_type": "markdown",
            "source": "<h4>Replace \"NaN\" with the mean value in the \"horsepower\" column</h4>\n"
        },
        {
            "metadata": {},
            "cell_type": "code",
            "source": "df['horsepower'].replace(np.nan, avg_horsepower, inplace=True)",
            "execution_count": 16,
            "outputs": []
        },
        {
            "metadata": {},
            "cell_type": "markdown",
            "source": "<h4>Calculate the mean value for \"peak-rpm\" column</h4>\n"
        },
        {
            "metadata": {},
            "cell_type": "code",
            "source": "avg_peakrpm=df['peak-rpm'].astype('float').mean(axis=0)\nprint(\"Average peak rpm:\", avg_peakrpm)",
            "execution_count": 17,
            "outputs": [
                {
                    "output_type": "stream",
                    "text": "Average peak rpm: 5125.369458128079\n",
                    "name": "stdout"
                }
            ]
        },
        {
            "metadata": {},
            "cell_type": "markdown",
            "source": "<h4>Replace \"NaN\" with the mean value in the \"peak-rpm\" column</h4>\n"
        },
        {
            "metadata": {},
            "cell_type": "code",
            "source": "df['peak-rpm'].replace(np.nan, avg_peakrpm, inplace=True)",
            "execution_count": 18,
            "outputs": []
        },
        {
            "metadata": {},
            "cell_type": "markdown",
            "source": "To see which values are present in a particular column, we can use the \".value_counts()\" method:\n"
        },
        {
            "metadata": {},
            "cell_type": "code",
            "source": "df['num-of-doors'].value_counts()",
            "execution_count": 19,
            "outputs": [
                {
                    "output_type": "execute_result",
                    "execution_count": 19,
                    "data": {
                        "text/plain": "four    114\ntwo      89\nName: num-of-doors, dtype: int64"
                    },
                    "metadata": {}
                }
            ]
        },
        {
            "metadata": {},
            "cell_type": "markdown",
            "source": "We can see that four doors are the most common type. We can also use the \".idxmax()\" method to calculate the most common type automatically:\n"
        },
        {
            "metadata": {},
            "cell_type": "code",
            "source": "df['num-of-doors'].value_counts().idxmax()",
            "execution_count": 20,
            "outputs": [
                {
                    "output_type": "execute_result",
                    "execution_count": 20,
                    "data": {
                        "text/plain": "'four'"
                    },
                    "metadata": {}
                }
            ]
        },
        {
            "metadata": {},
            "cell_type": "markdown",
            "source": "The replacement procedure is very similar to what we have seen previously:\n"
        },
        {
            "metadata": {},
            "cell_type": "code",
            "source": "#replace the missing 'num-of-doors' values by the most frequent \ndf[\"num-of-doors\"].replace(np.nan, \"four\", inplace=True)",
            "execution_count": 21,
            "outputs": []
        },
        {
            "metadata": {},
            "cell_type": "markdown",
            "source": "Finally, let's drop all rows that do not have price data:\n"
        },
        {
            "metadata": {},
            "cell_type": "code",
            "source": "# simply drop whole row with NaN in \"price\" column\ndf.dropna(subset=[\"price\"], axis=0, inplace=True)\n\n# reset index, because we droped two rows\ndf.reset_index(drop=True, inplace=True)",
            "execution_count": 22,
            "outputs": []
        },
        {
            "metadata": {},
            "cell_type": "code",
            "source": "df.head()",
            "execution_count": 23,
            "outputs": [
                {
                    "output_type": "execute_result",
                    "execution_count": 23,
                    "data": {
                        "text/plain": "   symboling normalized-losses         make fuel-type aspiration num-of-doors  \\\n0          3             122.0  alfa-romero       gas        std          two   \n1          3             122.0  alfa-romero       gas        std          two   \n2          1             122.0  alfa-romero       gas        std          two   \n3          2               164         audi       gas        std         four   \n4          2               164         audi       gas        std         four   \n\n    body-style drive-wheels engine-location  wheel-base  ...  engine-size  \\\n0  convertible          rwd           front        88.6  ...          130   \n1  convertible          rwd           front        88.6  ...          130   \n2    hatchback          rwd           front        94.5  ...          152   \n3        sedan          fwd           front        99.8  ...          109   \n4        sedan          4wd           front        99.4  ...          136   \n\n   fuel-system  bore  stroke compression-ratio horsepower  peak-rpm city-mpg  \\\n0         mpfi  3.47    2.68               9.0        111      5000       21   \n1         mpfi  3.47    2.68               9.0        111      5000       21   \n2         mpfi  2.68    3.47               9.0        154      5000       19   \n3         mpfi  3.19    3.40              10.0        102      5500       24   \n4         mpfi  3.19    3.40               8.0        115      5500       18   \n\n  highway-mpg  price  \n0          27  13495  \n1          27  16500  \n2          26  16500  \n3          30  13950  \n4          22  17450  \n\n[5 rows x 26 columns]",
                        "text/html": "<div>\n<style scoped>\n    .dataframe tbody tr th:only-of-type {\n        vertical-align: middle;\n    }\n\n    .dataframe tbody tr th {\n        vertical-align: top;\n    }\n\n    .dataframe thead th {\n        text-align: right;\n    }\n</style>\n<table border=\"1\" class=\"dataframe\">\n  <thead>\n    <tr style=\"text-align: right;\">\n      <th></th>\n      <th>symboling</th>\n      <th>normalized-losses</th>\n      <th>make</th>\n      <th>fuel-type</th>\n      <th>aspiration</th>\n      <th>num-of-doors</th>\n      <th>body-style</th>\n      <th>drive-wheels</th>\n      <th>engine-location</th>\n      <th>wheel-base</th>\n      <th>...</th>\n      <th>engine-size</th>\n      <th>fuel-system</th>\n      <th>bore</th>\n      <th>stroke</th>\n      <th>compression-ratio</th>\n      <th>horsepower</th>\n      <th>peak-rpm</th>\n      <th>city-mpg</th>\n      <th>highway-mpg</th>\n      <th>price</th>\n    </tr>\n  </thead>\n  <tbody>\n    <tr>\n      <th>0</th>\n      <td>3</td>\n      <td>122.0</td>\n      <td>alfa-romero</td>\n      <td>gas</td>\n      <td>std</td>\n      <td>two</td>\n      <td>convertible</td>\n      <td>rwd</td>\n      <td>front</td>\n      <td>88.6</td>\n      <td>...</td>\n      <td>130</td>\n      <td>mpfi</td>\n      <td>3.47</td>\n      <td>2.68</td>\n      <td>9.0</td>\n      <td>111</td>\n      <td>5000</td>\n      <td>21</td>\n      <td>27</td>\n      <td>13495</td>\n    </tr>\n    <tr>\n      <th>1</th>\n      <td>3</td>\n      <td>122.0</td>\n      <td>alfa-romero</td>\n      <td>gas</td>\n      <td>std</td>\n      <td>two</td>\n      <td>convertible</td>\n      <td>rwd</td>\n      <td>front</td>\n      <td>88.6</td>\n      <td>...</td>\n      <td>130</td>\n      <td>mpfi</td>\n      <td>3.47</td>\n      <td>2.68</td>\n      <td>9.0</td>\n      <td>111</td>\n      <td>5000</td>\n      <td>21</td>\n      <td>27</td>\n      <td>16500</td>\n    </tr>\n    <tr>\n      <th>2</th>\n      <td>1</td>\n      <td>122.0</td>\n      <td>alfa-romero</td>\n      <td>gas</td>\n      <td>std</td>\n      <td>two</td>\n      <td>hatchback</td>\n      <td>rwd</td>\n      <td>front</td>\n      <td>94.5</td>\n      <td>...</td>\n      <td>152</td>\n      <td>mpfi</td>\n      <td>2.68</td>\n      <td>3.47</td>\n      <td>9.0</td>\n      <td>154</td>\n      <td>5000</td>\n      <td>19</td>\n      <td>26</td>\n      <td>16500</td>\n    </tr>\n    <tr>\n      <th>3</th>\n      <td>2</td>\n      <td>164</td>\n      <td>audi</td>\n      <td>gas</td>\n      <td>std</td>\n      <td>four</td>\n      <td>sedan</td>\n      <td>fwd</td>\n      <td>front</td>\n      <td>99.8</td>\n      <td>...</td>\n      <td>109</td>\n      <td>mpfi</td>\n      <td>3.19</td>\n      <td>3.40</td>\n      <td>10.0</td>\n      <td>102</td>\n      <td>5500</td>\n      <td>24</td>\n      <td>30</td>\n      <td>13950</td>\n    </tr>\n    <tr>\n      <th>4</th>\n      <td>2</td>\n      <td>164</td>\n      <td>audi</td>\n      <td>gas</td>\n      <td>std</td>\n      <td>four</td>\n      <td>sedan</td>\n      <td>4wd</td>\n      <td>front</td>\n      <td>99.4</td>\n      <td>...</td>\n      <td>136</td>\n      <td>mpfi</td>\n      <td>3.19</td>\n      <td>3.40</td>\n      <td>8.0</td>\n      <td>115</td>\n      <td>5500</td>\n      <td>18</td>\n      <td>22</td>\n      <td>17450</td>\n    </tr>\n  </tbody>\n</table>\n<p>5 rows \u00d7 26 columns</p>\n</div>"
                    },
                    "metadata": {}
                }
            ]
        },
        {
            "metadata": {},
            "cell_type": "markdown",
            "source": "<b>Good!</b> Now, we have a dataset with no missing values.\n"
        },
        {
            "metadata": {},
            "cell_type": "markdown",
            "source": "<h3 id=\"correct_data_format\">Correct data format</h3>\n<b>We are almost there!</b>\n<p>The last step in data cleaning is checking and making sure that all data is in the correct format (int, float, text or other).</p>\n\nIn Pandas, we use:\n\n<p><b>.dtype()</b> to check the data type</p>\n<p><b>.astype()</b> to change the data type</p>\n"
        },
        {
            "metadata": {},
            "cell_type": "markdown",
            "source": "<h4>Let's list the data types for each column</h4>\n"
        },
        {
            "metadata": {},
            "cell_type": "code",
            "source": "df.dtypes",
            "execution_count": 24,
            "outputs": [
                {
                    "output_type": "execute_result",
                    "execution_count": 24,
                    "data": {
                        "text/plain": "symboling              int64\nnormalized-losses     object\nmake                  object\nfuel-type             object\naspiration            object\nnum-of-doors          object\nbody-style            object\ndrive-wheels          object\nengine-location       object\nwheel-base           float64\nlength               float64\nwidth                float64\nheight               float64\ncurb-weight            int64\nengine-type           object\nnum-of-cylinders      object\nengine-size            int64\nfuel-system           object\nbore                  object\nstroke                object\ncompression-ratio    float64\nhorsepower            object\npeak-rpm              object\ncity-mpg               int64\nhighway-mpg            int64\nprice                 object\ndtype: object"
                    },
                    "metadata": {}
                }
            ]
        },
        {
            "metadata": {},
            "cell_type": "markdown",
            "source": "<p>As we can see above, some columns are not of the correct data type. Numerical variables should have type 'float' or 'int', and variables with strings such as categories should have type 'object'. For example, 'bore' and 'stroke' variables are numerical values that describe the engines, so we should expect them to be of the type 'float' or 'int'; however, they are shown as type 'object'. We have to convert data types into a proper format for each column using the \"astype()\" method.</p> \n"
        },
        {
            "metadata": {},
            "cell_type": "markdown",
            "source": "<h4>Convert data types to proper format</h4>\n"
        },
        {
            "metadata": {},
            "cell_type": "code",
            "source": "df[[\"bore\", \"stroke\"]] = df[[\"bore\", \"stroke\"]].astype(\"float\")\ndf[[\"normalized-losses\"]] = df[[\"normalized-losses\"]].astype(\"int\")\ndf[[\"price\"]] = df[[\"price\"]].astype(\"float\")\ndf[[\"peak-rpm\"]] = df[[\"peak-rpm\"]].astype(\"float\")",
            "execution_count": 25,
            "outputs": []
        },
        {
            "metadata": {},
            "cell_type": "markdown",
            "source": "<h4>Let us list the columns after the conversion</h4>\n"
        },
        {
            "metadata": {},
            "cell_type": "code",
            "source": "df.dtypes",
            "execution_count": 26,
            "outputs": [
                {
                    "output_type": "execute_result",
                    "execution_count": 26,
                    "data": {
                        "text/plain": "symboling              int64\nnormalized-losses      int64\nmake                  object\nfuel-type             object\naspiration            object\nnum-of-doors          object\nbody-style            object\ndrive-wheels          object\nengine-location       object\nwheel-base           float64\nlength               float64\nwidth                float64\nheight               float64\ncurb-weight            int64\nengine-type           object\nnum-of-cylinders      object\nengine-size            int64\nfuel-system           object\nbore                 float64\nstroke               float64\ncompression-ratio    float64\nhorsepower            object\npeak-rpm             float64\ncity-mpg               int64\nhighway-mpg            int64\nprice                float64\ndtype: object"
                    },
                    "metadata": {}
                }
            ]
        },
        {
            "metadata": {},
            "cell_type": "markdown",
            "source": "<b>Wonderful!</b>\n\nNow we have finally obtained the cleaned dataset with no missing values with all data in its proper format.\n"
        },
        {
            "metadata": {},
            "cell_type": "markdown",
            "source": "<h2 id=\"data_standardization\">Data Standardization</h2>\n<p>\nData is usually collected from different agencies in different formats.\n(Data standardization is also a term for a particular type of data normalization where we subtract the mean and divide by the standard deviation.)\n</p>\n\n<b>What is standardization?</b>\n\n<p>Standardization is the process of transforming data into a common format, allowing the researcher to make the meaningful comparison.\n</p>\n\n<b>Example</b>\n\n<p>Transform mpg to L/100km:</p>\n<p>In our dataset, the fuel consumption columns \"city-mpg\" and \"highway-mpg\" are represented by mpg (miles per gallon) unit. Assume we are developing an application in a country that accepts the fuel consumption with L/100km standard.</p>\n<p>We will need to apply <b>data transformation</b> to transform mpg into L/100km.</p>\n"
        },
        {
            "metadata": {},
            "cell_type": "markdown",
            "source": "<p>The formula for unit conversion is:<p>\nL/100km = 235 / mpg\n<p>We can do many mathematical operations directly in Pandas.</p>\n"
        },
        {
            "metadata": {},
            "cell_type": "code",
            "source": "df.head()",
            "execution_count": 27,
            "outputs": [
                {
                    "output_type": "execute_result",
                    "execution_count": 27,
                    "data": {
                        "text/plain": "   symboling  normalized-losses         make fuel-type aspiration  \\\n0          3                122  alfa-romero       gas        std   \n1          3                122  alfa-romero       gas        std   \n2          1                122  alfa-romero       gas        std   \n3          2                164         audi       gas        std   \n4          2                164         audi       gas        std   \n\n  num-of-doors   body-style drive-wheels engine-location  wheel-base  ...  \\\n0          two  convertible          rwd           front        88.6  ...   \n1          two  convertible          rwd           front        88.6  ...   \n2          two    hatchback          rwd           front        94.5  ...   \n3         four        sedan          fwd           front        99.8  ...   \n4         four        sedan          4wd           front        99.4  ...   \n\n   engine-size  fuel-system  bore  stroke compression-ratio horsepower  \\\n0          130         mpfi  3.47    2.68               9.0        111   \n1          130         mpfi  3.47    2.68               9.0        111   \n2          152         mpfi  2.68    3.47               9.0        154   \n3          109         mpfi  3.19    3.40              10.0        102   \n4          136         mpfi  3.19    3.40               8.0        115   \n\n   peak-rpm city-mpg  highway-mpg    price  \n0    5000.0       21           27  13495.0  \n1    5000.0       21           27  16500.0  \n2    5000.0       19           26  16500.0  \n3    5500.0       24           30  13950.0  \n4    5500.0       18           22  17450.0  \n\n[5 rows x 26 columns]",
                        "text/html": "<div>\n<style scoped>\n    .dataframe tbody tr th:only-of-type {\n        vertical-align: middle;\n    }\n\n    .dataframe tbody tr th {\n        vertical-align: top;\n    }\n\n    .dataframe thead th {\n        text-align: right;\n    }\n</style>\n<table border=\"1\" class=\"dataframe\">\n  <thead>\n    <tr style=\"text-align: right;\">\n      <th></th>\n      <th>symboling</th>\n      <th>normalized-losses</th>\n      <th>make</th>\n      <th>fuel-type</th>\n      <th>aspiration</th>\n      <th>num-of-doors</th>\n      <th>body-style</th>\n      <th>drive-wheels</th>\n      <th>engine-location</th>\n      <th>wheel-base</th>\n      <th>...</th>\n      <th>engine-size</th>\n      <th>fuel-system</th>\n      <th>bore</th>\n      <th>stroke</th>\n      <th>compression-ratio</th>\n      <th>horsepower</th>\n      <th>peak-rpm</th>\n      <th>city-mpg</th>\n      <th>highway-mpg</th>\n      <th>price</th>\n    </tr>\n  </thead>\n  <tbody>\n    <tr>\n      <th>0</th>\n      <td>3</td>\n      <td>122</td>\n      <td>alfa-romero</td>\n      <td>gas</td>\n      <td>std</td>\n      <td>two</td>\n      <td>convertible</td>\n      <td>rwd</td>\n      <td>front</td>\n      <td>88.6</td>\n      <td>...</td>\n      <td>130</td>\n      <td>mpfi</td>\n      <td>3.47</td>\n      <td>2.68</td>\n      <td>9.0</td>\n      <td>111</td>\n      <td>5000.0</td>\n      <td>21</td>\n      <td>27</td>\n      <td>13495.0</td>\n    </tr>\n    <tr>\n      <th>1</th>\n      <td>3</td>\n      <td>122</td>\n      <td>alfa-romero</td>\n      <td>gas</td>\n      <td>std</td>\n      <td>two</td>\n      <td>convertible</td>\n      <td>rwd</td>\n      <td>front</td>\n      <td>88.6</td>\n      <td>...</td>\n      <td>130</td>\n      <td>mpfi</td>\n      <td>3.47</td>\n      <td>2.68</td>\n      <td>9.0</td>\n      <td>111</td>\n      <td>5000.0</td>\n      <td>21</td>\n      <td>27</td>\n      <td>16500.0</td>\n    </tr>\n    <tr>\n      <th>2</th>\n      <td>1</td>\n      <td>122</td>\n      <td>alfa-romero</td>\n      <td>gas</td>\n      <td>std</td>\n      <td>two</td>\n      <td>hatchback</td>\n      <td>rwd</td>\n      <td>front</td>\n      <td>94.5</td>\n      <td>...</td>\n      <td>152</td>\n      <td>mpfi</td>\n      <td>2.68</td>\n      <td>3.47</td>\n      <td>9.0</td>\n      <td>154</td>\n      <td>5000.0</td>\n      <td>19</td>\n      <td>26</td>\n      <td>16500.0</td>\n    </tr>\n    <tr>\n      <th>3</th>\n      <td>2</td>\n      <td>164</td>\n      <td>audi</td>\n      <td>gas</td>\n      <td>std</td>\n      <td>four</td>\n      <td>sedan</td>\n      <td>fwd</td>\n      <td>front</td>\n      <td>99.8</td>\n      <td>...</td>\n      <td>109</td>\n      <td>mpfi</td>\n      <td>3.19</td>\n      <td>3.40</td>\n      <td>10.0</td>\n      <td>102</td>\n      <td>5500.0</td>\n      <td>24</td>\n      <td>30</td>\n      <td>13950.0</td>\n    </tr>\n    <tr>\n      <th>4</th>\n      <td>2</td>\n      <td>164</td>\n      <td>audi</td>\n      <td>gas</td>\n      <td>std</td>\n      <td>four</td>\n      <td>sedan</td>\n      <td>4wd</td>\n      <td>front</td>\n      <td>99.4</td>\n      <td>...</td>\n      <td>136</td>\n      <td>mpfi</td>\n      <td>3.19</td>\n      <td>3.40</td>\n      <td>8.0</td>\n      <td>115</td>\n      <td>5500.0</td>\n      <td>18</td>\n      <td>22</td>\n      <td>17450.0</td>\n    </tr>\n  </tbody>\n</table>\n<p>5 rows \u00d7 26 columns</p>\n</div>"
                    },
                    "metadata": {}
                }
            ]
        },
        {
            "metadata": {},
            "cell_type": "code",
            "source": "# Convert mpg to L/100km by mathematical operation (235 divided by mpg)\ndf['city-L/100km'] = 235/df[\"city-mpg\"]\n\n# check your transformed data \ndf.head()",
            "execution_count": 28,
            "outputs": [
                {
                    "output_type": "execute_result",
                    "execution_count": 28,
                    "data": {
                        "text/plain": "   symboling  normalized-losses         make fuel-type aspiration  \\\n0          3                122  alfa-romero       gas        std   \n1          3                122  alfa-romero       gas        std   \n2          1                122  alfa-romero       gas        std   \n3          2                164         audi       gas        std   \n4          2                164         audi       gas        std   \n\n  num-of-doors   body-style drive-wheels engine-location  wheel-base  ...  \\\n0          two  convertible          rwd           front        88.6  ...   \n1          two  convertible          rwd           front        88.6  ...   \n2          two    hatchback          rwd           front        94.5  ...   \n3         four        sedan          fwd           front        99.8  ...   \n4         four        sedan          4wd           front        99.4  ...   \n\n   fuel-system  bore  stroke  compression-ratio horsepower peak-rpm  city-mpg  \\\n0         mpfi  3.47    2.68                9.0        111   5000.0        21   \n1         mpfi  3.47    2.68                9.0        111   5000.0        21   \n2         mpfi  2.68    3.47                9.0        154   5000.0        19   \n3         mpfi  3.19    3.40               10.0        102   5500.0        24   \n4         mpfi  3.19    3.40                8.0        115   5500.0        18   \n\n  highway-mpg    price  city-L/100km  \n0          27  13495.0     11.190476  \n1          27  16500.0     11.190476  \n2          26  16500.0     12.368421  \n3          30  13950.0      9.791667  \n4          22  17450.0     13.055556  \n\n[5 rows x 27 columns]",
                        "text/html": "<div>\n<style scoped>\n    .dataframe tbody tr th:only-of-type {\n        vertical-align: middle;\n    }\n\n    .dataframe tbody tr th {\n        vertical-align: top;\n    }\n\n    .dataframe thead th {\n        text-align: right;\n    }\n</style>\n<table border=\"1\" class=\"dataframe\">\n  <thead>\n    <tr style=\"text-align: right;\">\n      <th></th>\n      <th>symboling</th>\n      <th>normalized-losses</th>\n      <th>make</th>\n      <th>fuel-type</th>\n      <th>aspiration</th>\n      <th>num-of-doors</th>\n      <th>body-style</th>\n      <th>drive-wheels</th>\n      <th>engine-location</th>\n      <th>wheel-base</th>\n      <th>...</th>\n      <th>fuel-system</th>\n      <th>bore</th>\n      <th>stroke</th>\n      <th>compression-ratio</th>\n      <th>horsepower</th>\n      <th>peak-rpm</th>\n      <th>city-mpg</th>\n      <th>highway-mpg</th>\n      <th>price</th>\n      <th>city-L/100km</th>\n    </tr>\n  </thead>\n  <tbody>\n    <tr>\n      <th>0</th>\n      <td>3</td>\n      <td>122</td>\n      <td>alfa-romero</td>\n      <td>gas</td>\n      <td>std</td>\n      <td>two</td>\n      <td>convertible</td>\n      <td>rwd</td>\n      <td>front</td>\n      <td>88.6</td>\n      <td>...</td>\n      <td>mpfi</td>\n      <td>3.47</td>\n      <td>2.68</td>\n      <td>9.0</td>\n      <td>111</td>\n      <td>5000.0</td>\n      <td>21</td>\n      <td>27</td>\n      <td>13495.0</td>\n      <td>11.190476</td>\n    </tr>\n    <tr>\n      <th>1</th>\n      <td>3</td>\n      <td>122</td>\n      <td>alfa-romero</td>\n      <td>gas</td>\n      <td>std</td>\n      <td>two</td>\n      <td>convertible</td>\n      <td>rwd</td>\n      <td>front</td>\n      <td>88.6</td>\n      <td>...</td>\n      <td>mpfi</td>\n      <td>3.47</td>\n      <td>2.68</td>\n      <td>9.0</td>\n      <td>111</td>\n      <td>5000.0</td>\n      <td>21</td>\n      <td>27</td>\n      <td>16500.0</td>\n      <td>11.190476</td>\n    </tr>\n    <tr>\n      <th>2</th>\n      <td>1</td>\n      <td>122</td>\n      <td>alfa-romero</td>\n      <td>gas</td>\n      <td>std</td>\n      <td>two</td>\n      <td>hatchback</td>\n      <td>rwd</td>\n      <td>front</td>\n      <td>94.5</td>\n      <td>...</td>\n      <td>mpfi</td>\n      <td>2.68</td>\n      <td>3.47</td>\n      <td>9.0</td>\n      <td>154</td>\n      <td>5000.0</td>\n      <td>19</td>\n      <td>26</td>\n      <td>16500.0</td>\n      <td>12.368421</td>\n    </tr>\n    <tr>\n      <th>3</th>\n      <td>2</td>\n      <td>164</td>\n      <td>audi</td>\n      <td>gas</td>\n      <td>std</td>\n      <td>four</td>\n      <td>sedan</td>\n      <td>fwd</td>\n      <td>front</td>\n      <td>99.8</td>\n      <td>...</td>\n      <td>mpfi</td>\n      <td>3.19</td>\n      <td>3.40</td>\n      <td>10.0</td>\n      <td>102</td>\n      <td>5500.0</td>\n      <td>24</td>\n      <td>30</td>\n      <td>13950.0</td>\n      <td>9.791667</td>\n    </tr>\n    <tr>\n      <th>4</th>\n      <td>2</td>\n      <td>164</td>\n      <td>audi</td>\n      <td>gas</td>\n      <td>std</td>\n      <td>four</td>\n      <td>sedan</td>\n      <td>4wd</td>\n      <td>front</td>\n      <td>99.4</td>\n      <td>...</td>\n      <td>mpfi</td>\n      <td>3.19</td>\n      <td>3.40</td>\n      <td>8.0</td>\n      <td>115</td>\n      <td>5500.0</td>\n      <td>18</td>\n      <td>22</td>\n      <td>17450.0</td>\n      <td>13.055556</td>\n    </tr>\n  </tbody>\n</table>\n<p>5 rows \u00d7 27 columns</p>\n</div>"
                    },
                    "metadata": {}
                }
            ]
        },
        {
            "metadata": {},
            "cell_type": "markdown",
            "source": "<div class=\"alert alert-danger alertdanger\" style=\"margin-top: 20px\">\n<h1> Question  #2: </h1>\n\n<b>According to the example above, transform mpg to L/100km in the column of \"highway-mpg\" and change the name of column to \"highway-L/100km\".</b>\n\n</div>\n"
        },
        {
            "metadata": {},
            "cell_type": "code",
            "source": "# Write your code below and press Shift+Enter to execute \n# transform mpg to L/100km by mathematical operation (235 divided by mpg)\ndf[\"highway-mpg\"] = 235/df[\"highway-mpg\"]\n\n# rename column name from \"highway-mpg\" to \"highway-L/100km\"\ndf.rename(columns={'\"highway-mpg\"':'highway-L/100km'}, inplace=True)\n\n# check your transformed data \ndf.head()",
            "execution_count": 49,
            "outputs": [
                {
                    "output_type": "execute_result",
                    "execution_count": 49,
                    "data": {
                        "text/plain": "   symboling  normalized-losses         make aspiration num-of-doors  \\\n0          3                122  alfa-romero        std          two   \n1          3                122  alfa-romero        std          two   \n2          1                122  alfa-romero        std          two   \n3          2                164         audi        std         four   \n4          2                164         audi        std         four   \n\n    body-style drive-wheels engine-location  wheel-base    length  ...  \\\n0  convertible          rwd           front        88.6  0.811148  ...   \n1  convertible          rwd           front        88.6  0.811148  ...   \n2    hatchback          rwd           front        94.5  0.822681  ...   \n3        sedan          fwd           front        99.8  0.848630  ...   \n4        sedan          4wd           front        99.4  0.848630  ...   \n\n   compression-ratio  horsepower  peak-rpm city-mpg highway-mpg    price  \\\n0                9.0         111    5000.0       21    8.703704  13495.0   \n1                9.0         111    5000.0       21    8.703704  16500.0   \n2                9.0         154    5000.0       19    9.038462  16500.0   \n3               10.0         102    5500.0       24    7.833333  13950.0   \n4                8.0         115    5500.0       18   10.681818  17450.0   \n\n  city-L/100km  horsepower-binned  fuel-type-diesel  fuel-type-gas  \n0    11.190476                Low                 0              1  \n1    11.190476                Low                 0              1  \n2    12.368421             Medium                 0              1  \n3     9.791667                Low                 0              1  \n4    13.055556                Low                 0              1  \n\n[5 rows x 29 columns]",
                        "text/html": "<div>\n<style scoped>\n    .dataframe tbody tr th:only-of-type {\n        vertical-align: middle;\n    }\n\n    .dataframe tbody tr th {\n        vertical-align: top;\n    }\n\n    .dataframe thead th {\n        text-align: right;\n    }\n</style>\n<table border=\"1\" class=\"dataframe\">\n  <thead>\n    <tr style=\"text-align: right;\">\n      <th></th>\n      <th>symboling</th>\n      <th>normalized-losses</th>\n      <th>make</th>\n      <th>aspiration</th>\n      <th>num-of-doors</th>\n      <th>body-style</th>\n      <th>drive-wheels</th>\n      <th>engine-location</th>\n      <th>wheel-base</th>\n      <th>length</th>\n      <th>...</th>\n      <th>compression-ratio</th>\n      <th>horsepower</th>\n      <th>peak-rpm</th>\n      <th>city-mpg</th>\n      <th>highway-mpg</th>\n      <th>price</th>\n      <th>city-L/100km</th>\n      <th>horsepower-binned</th>\n      <th>fuel-type-diesel</th>\n      <th>fuel-type-gas</th>\n    </tr>\n  </thead>\n  <tbody>\n    <tr>\n      <th>0</th>\n      <td>3</td>\n      <td>122</td>\n      <td>alfa-romero</td>\n      <td>std</td>\n      <td>two</td>\n      <td>convertible</td>\n      <td>rwd</td>\n      <td>front</td>\n      <td>88.6</td>\n      <td>0.811148</td>\n      <td>...</td>\n      <td>9.0</td>\n      <td>111</td>\n      <td>5000.0</td>\n      <td>21</td>\n      <td>8.703704</td>\n      <td>13495.0</td>\n      <td>11.190476</td>\n      <td>Low</td>\n      <td>0</td>\n      <td>1</td>\n    </tr>\n    <tr>\n      <th>1</th>\n      <td>3</td>\n      <td>122</td>\n      <td>alfa-romero</td>\n      <td>std</td>\n      <td>two</td>\n      <td>convertible</td>\n      <td>rwd</td>\n      <td>front</td>\n      <td>88.6</td>\n      <td>0.811148</td>\n      <td>...</td>\n      <td>9.0</td>\n      <td>111</td>\n      <td>5000.0</td>\n      <td>21</td>\n      <td>8.703704</td>\n      <td>16500.0</td>\n      <td>11.190476</td>\n      <td>Low</td>\n      <td>0</td>\n      <td>1</td>\n    </tr>\n    <tr>\n      <th>2</th>\n      <td>1</td>\n      <td>122</td>\n      <td>alfa-romero</td>\n      <td>std</td>\n      <td>two</td>\n      <td>hatchback</td>\n      <td>rwd</td>\n      <td>front</td>\n      <td>94.5</td>\n      <td>0.822681</td>\n      <td>...</td>\n      <td>9.0</td>\n      <td>154</td>\n      <td>5000.0</td>\n      <td>19</td>\n      <td>9.038462</td>\n      <td>16500.0</td>\n      <td>12.368421</td>\n      <td>Medium</td>\n      <td>0</td>\n      <td>1</td>\n    </tr>\n    <tr>\n      <th>3</th>\n      <td>2</td>\n      <td>164</td>\n      <td>audi</td>\n      <td>std</td>\n      <td>four</td>\n      <td>sedan</td>\n      <td>fwd</td>\n      <td>front</td>\n      <td>99.8</td>\n      <td>0.848630</td>\n      <td>...</td>\n      <td>10.0</td>\n      <td>102</td>\n      <td>5500.0</td>\n      <td>24</td>\n      <td>7.833333</td>\n      <td>13950.0</td>\n      <td>9.791667</td>\n      <td>Low</td>\n      <td>0</td>\n      <td>1</td>\n    </tr>\n    <tr>\n      <th>4</th>\n      <td>2</td>\n      <td>164</td>\n      <td>audi</td>\n      <td>std</td>\n      <td>four</td>\n      <td>sedan</td>\n      <td>4wd</td>\n      <td>front</td>\n      <td>99.4</td>\n      <td>0.848630</td>\n      <td>...</td>\n      <td>8.0</td>\n      <td>115</td>\n      <td>5500.0</td>\n      <td>18</td>\n      <td>10.681818</td>\n      <td>17450.0</td>\n      <td>13.055556</td>\n      <td>Low</td>\n      <td>0</td>\n      <td>1</td>\n    </tr>\n  </tbody>\n</table>\n<p>5 rows \u00d7 29 columns</p>\n</div>"
                    },
                    "metadata": {}
                }
            ]
        },
        {
            "metadata": {},
            "cell_type": "markdown",
            "source": "<details><summary>Click here for the solution</summary>\n\n```python\n# transform mpg to L/100km by mathematical operation (235 divided by mpg)\ndf[\"highway-mpg\"] = 235/df[\"highway-mpg\"]\n\n# rename column name from \"highway-mpg\" to \"highway-L/100km\"\ndf.rename(columns={'\"highway-mpg\"':'highway-L/100km'}, inplace=True)\n\n# check your transformed data \ndf.head()\n\n```\n\n</details>\n"
        },
        {
            "metadata": {},
            "cell_type": "markdown",
            "source": "<h2 id=\"data_normalization\">Data Normalization</h2>\n\n<b>Why normalization?</b>\n\n<p>Normalization is the process of transforming values of several variables into a similar range. Typical normalizations include scaling the variable so the variable average is 0, scaling the variable so the variance is 1, or scaling the variable so the variable values range from 0 to 1.\n</p>\n\n<b>Example</b>\n\n<p>To demonstrate normalization, let's say we want to scale the columns \"length\", \"width\" and \"height\".</p>\n<p><b>Target:</b> would like to normalize those variables so their value ranges from 0 to 1</p>\n<p><b>Approach:</b> replace original value by (original value)/(maximum value)</p>\n"
        },
        {
            "metadata": {},
            "cell_type": "code",
            "source": "# replace (original value) by (original value)/(maximum value)\ndf['length'] = df['length']/df['length'].max()\ndf['width'] = df['width']/df['width'].max()",
            "execution_count": 30,
            "outputs": []
        },
        {
            "metadata": {},
            "cell_type": "markdown",
            "source": "<div class=\"alert alert-danger alertdanger\" style=\"margin-top: 20px\">\n<h1> Question #3: </h1>\n\n<b>According to the example above, normalize the column \"height\".</b>\n\n</div>\n"
        },
        {
            "metadata": {},
            "cell_type": "code",
            "source": "# Write your code below and press Shift+Enter to execute \ndf['height'] = df['height']/df['height'].max() \n\n# show the scaled columns\ndf[[\"length\",\"width\",\"height\"]].head()",
            "execution_count": 50,
            "outputs": [
                {
                    "output_type": "execute_result",
                    "execution_count": 50,
                    "data": {
                        "text/plain": "     length     width    height\n0  0.811148  0.890278  0.816054\n1  0.811148  0.890278  0.816054\n2  0.822681  0.909722  0.876254\n3  0.848630  0.919444  0.908027\n4  0.848630  0.922222  0.908027",
                        "text/html": "<div>\n<style scoped>\n    .dataframe tbody tr th:only-of-type {\n        vertical-align: middle;\n    }\n\n    .dataframe tbody tr th {\n        vertical-align: top;\n    }\n\n    .dataframe thead th {\n        text-align: right;\n    }\n</style>\n<table border=\"1\" class=\"dataframe\">\n  <thead>\n    <tr style=\"text-align: right;\">\n      <th></th>\n      <th>length</th>\n      <th>width</th>\n      <th>height</th>\n    </tr>\n  </thead>\n  <tbody>\n    <tr>\n      <th>0</th>\n      <td>0.811148</td>\n      <td>0.890278</td>\n      <td>0.816054</td>\n    </tr>\n    <tr>\n      <th>1</th>\n      <td>0.811148</td>\n      <td>0.890278</td>\n      <td>0.816054</td>\n    </tr>\n    <tr>\n      <th>2</th>\n      <td>0.822681</td>\n      <td>0.909722</td>\n      <td>0.876254</td>\n    </tr>\n    <tr>\n      <th>3</th>\n      <td>0.848630</td>\n      <td>0.919444</td>\n      <td>0.908027</td>\n    </tr>\n    <tr>\n      <th>4</th>\n      <td>0.848630</td>\n      <td>0.922222</td>\n      <td>0.908027</td>\n    </tr>\n  </tbody>\n</table>\n</div>"
                    },
                    "metadata": {}
                }
            ]
        },
        {
            "metadata": {},
            "cell_type": "markdown",
            "source": "<details><summary>Click here for the solution</summary>\n\n```python\ndf['height'] = df['height']/df['height'].max() \n\n# show the scaled columns\ndf[[\"length\",\"width\",\"height\"]].head()\n\n\n```\n\n</details>\n"
        },
        {
            "metadata": {},
            "cell_type": "markdown",
            "source": "Here we can see we've normalized \"length\", \"width\" and \"height\" in the range of \\[0,1].\n"
        },
        {
            "metadata": {},
            "cell_type": "markdown",
            "source": "<h2 id=\"binning\">Binning</h2>\n<b>Why binning?</b>\n<p>\n    Binning is a process of transforming continuous numerical variables into discrete categorical 'bins' for grouped analysis.\n</p>\n\n<b>Example: </b>\n\n<p>In our dataset, \"horsepower\" is a real valued variable ranging from 48 to 288 and it has 59 unique values. What if we only care about the price difference between cars with high horsepower, medium horsepower, and little horsepower (3 types)? Can we rearrange them into three \u2018bins' to simplify analysis? </p>\n\n<p>We will use the pandas method 'cut' to segment the 'horsepower' column into 3 bins.</p>\n"
        },
        {
            "metadata": {},
            "cell_type": "markdown",
            "source": "<h3>Example of Binning Data In Pandas</h3>\n"
        },
        {
            "metadata": {},
            "cell_type": "markdown",
            "source": "Convert data to correct format:\n"
        },
        {
            "metadata": {},
            "cell_type": "code",
            "source": "df[\"horsepower\"]=df[\"horsepower\"].astype(int, copy=True)",
            "execution_count": 32,
            "outputs": []
        },
        {
            "metadata": {},
            "cell_type": "markdown",
            "source": "Let's plot the histogram of horsepower to see what the distribution of horsepower looks like.\n"
        },
        {
            "metadata": {},
            "cell_type": "code",
            "source": "%matplotlib inline\nimport matplotlib as plt\nfrom matplotlib import pyplot\nplt.pyplot.hist(df[\"horsepower\"])\n\n# set x/y labels and plot title\nplt.pyplot.xlabel(\"horsepower\")\nplt.pyplot.ylabel(\"count\")\nplt.pyplot.title(\"horsepower bins\")",
            "execution_count": 33,
            "outputs": [
                {
                    "output_type": "execute_result",
                    "execution_count": 33,
                    "data": {
                        "text/plain": "Text(0.5, 1.0, 'horsepower bins')"
                    },
                    "metadata": {}
                },
                {
                    "output_type": "display_data",
                    "data": {
                        "text/plain": "<Figure size 432x288 with 1 Axes>",
                        "image/png": "[encoded data removed]"
                    },
                    "metadata": {
                        "needs_background": "light"
                    }
                }
            ]
        },
        {
            "metadata": {},
            "cell_type": "markdown",
            "source": "<p>We would like 3 bins of equal size bandwidth so we use numpy's <code>linspace(start_value, end_value, numbers_generated</code> function.</p>\n<p>Since we want to include the minimum value of horsepower, we want to set start_value = min(df[\"horsepower\"]).</p>\n<p>Since we want to include the maximum value of horsepower, we want to set end_value = max(df[\"horsepower\"]).</p>\n<p>Since we are building 3 bins of equal length, there should be 4 dividers, so numbers_generated = 4.</p>\n"
        },
        {
            "metadata": {},
            "cell_type": "markdown",
            "source": "We build a bin array with a minimum value to a maximum value by using the bandwidth calculated above. The values will determine when one bin ends and another begins.\n"
        },
        {
            "metadata": {},
            "cell_type": "code",
            "source": "bins = np.linspace(min(df[\"horsepower\"]), max(df[\"horsepower\"]), 4)\nbins",
            "execution_count": 34,
            "outputs": [
                {
                    "output_type": "execute_result",
                    "execution_count": 34,
                    "data": {
                        "text/plain": "array([ 48.        , 119.33333333, 190.66666667, 262.        ])"
                    },
                    "metadata": {}
                }
            ]
        },
        {
            "metadata": {},
            "cell_type": "markdown",
            "source": "We set group  names:\n"
        },
        {
            "metadata": {},
            "cell_type": "code",
            "source": "group_names = ['Low', 'Medium', 'High']",
            "execution_count": 35,
            "outputs": []
        },
        {
            "metadata": {},
            "cell_type": "markdown",
            "source": "We apply the function \"cut\" to determine what each value of `df['horsepower']` belongs to.\n"
        },
        {
            "metadata": {},
            "cell_type": "code",
            "source": "df['horsepower-binned'] = pd.cut(df['horsepower'], bins, labels=group_names, include_lowest=True )\ndf[['horsepower','horsepower-binned']].head(20)",
            "execution_count": 36,
            "outputs": [
                {
                    "output_type": "execute_result",
                    "execution_count": 36,
                    "data": {
                        "text/plain": "    horsepower horsepower-binned\n0          111               Low\n1          111               Low\n2          154            Medium\n3          102               Low\n4          115               Low\n5          110               Low\n6          110               Low\n7          110               Low\n8          140            Medium\n9          101               Low\n10         101               Low\n11         121            Medium\n12         121            Medium\n13         121            Medium\n14         182            Medium\n15         182            Medium\n16         182            Medium\n17          48               Low\n18          70               Low\n19          70               Low",
                        "text/html": "<div>\n<style scoped>\n    .dataframe tbody tr th:only-of-type {\n        vertical-align: middle;\n    }\n\n    .dataframe tbody tr th {\n        vertical-align: top;\n    }\n\n    .dataframe thead th {\n        text-align: right;\n    }\n</style>\n<table border=\"1\" class=\"dataframe\">\n  <thead>\n    <tr style=\"text-align: right;\">\n      <th></th>\n      <th>horsepower</th>\n      <th>horsepower-binned</th>\n    </tr>\n  </thead>\n  <tbody>\n    <tr>\n      <th>0</th>\n      <td>111</td>\n      <td>Low</td>\n    </tr>\n    <tr>\n      <th>1</th>\n      <td>111</td>\n      <td>Low</td>\n    </tr>\n    <tr>\n      <th>2</th>\n      <td>154</td>\n      <td>Medium</td>\n    </tr>\n    <tr>\n      <th>3</th>\n      <td>102</td>\n      <td>Low</td>\n    </tr>\n    <tr>\n      <th>4</th>\n      <td>115</td>\n      <td>Low</td>\n    </tr>\n    <tr>\n      <th>5</th>\n      <td>110</td>\n      <td>Low</td>\n    </tr>\n    <tr>\n      <th>6</th>\n      <td>110</td>\n      <td>Low</td>\n    </tr>\n    <tr>\n      <th>7</th>\n      <td>110</td>\n      <td>Low</td>\n    </tr>\n    <tr>\n      <th>8</th>\n      <td>140</td>\n      <td>Medium</td>\n    </tr>\n    <tr>\n      <th>9</th>\n      <td>101</td>\n      <td>Low</td>\n    </tr>\n    <tr>\n      <th>10</th>\n      <td>101</td>\n      <td>Low</td>\n    </tr>\n    <tr>\n      <th>11</th>\n      <td>121</td>\n      <td>Medium</td>\n    </tr>\n    <tr>\n      <th>12</th>\n      <td>121</td>\n      <td>Medium</td>\n    </tr>\n    <tr>\n      <th>13</th>\n      <td>121</td>\n      <td>Medium</td>\n    </tr>\n    <tr>\n      <th>14</th>\n      <td>182</td>\n      <td>Medium</td>\n    </tr>\n    <tr>\n      <th>15</th>\n      <td>182</td>\n      <td>Medium</td>\n    </tr>\n    <tr>\n      <th>16</th>\n      <td>182</td>\n      <td>Medium</td>\n    </tr>\n    <tr>\n      <th>17</th>\n      <td>48</td>\n      <td>Low</td>\n    </tr>\n    <tr>\n      <th>18</th>\n      <td>70</td>\n      <td>Low</td>\n    </tr>\n    <tr>\n      <th>19</th>\n      <td>70</td>\n      <td>Low</td>\n    </tr>\n  </tbody>\n</table>\n</div>"
                    },
                    "metadata": {}
                }
            ]
        },
        {
            "metadata": {},
            "cell_type": "markdown",
            "source": "Let's see the number of vehicles in each bin:\n"
        },
        {
            "metadata": {},
            "cell_type": "code",
            "source": "df[\"horsepower-binned\"].value_counts()",
            "execution_count": 37,
            "outputs": [
                {
                    "output_type": "execute_result",
                    "execution_count": 37,
                    "data": {
                        "text/plain": "Low       153\nMedium     43\nHigh        5\nName: horsepower-binned, dtype: int64"
                    },
                    "metadata": {}
                }
            ]
        },
        {
            "metadata": {},
            "cell_type": "markdown",
            "source": "Let's plot the distribution of each bin:\n"
        },
        {
            "metadata": {},
            "cell_type": "code",
            "source": "%matplotlib inline\nimport matplotlib as plt\nfrom matplotlib import pyplot\npyplot.bar(group_names, df[\"horsepower-binned\"].value_counts())\n\n# set x/y labels and plot title\nplt.pyplot.xlabel(\"horsepower\")\nplt.pyplot.ylabel(\"count\")\nplt.pyplot.title(\"horsepower bins\")",
            "execution_count": 38,
            "outputs": [
                {
                    "output_type": "execute_result",
                    "execution_count": 38,
                    "data": {
                        "text/plain": "Text(0.5, 1.0, 'horsepower bins')"
                    },
                    "metadata": {}
                },
                {
                    "output_type": "display_data",
                    "data": {
                        "text/plain": "<Figure size 432x288 with 1 Axes>",
                        "image/png": "[encoded data removed]"
                    },
                    "metadata": {
                        "needs_background": "light"
                    }
                }
            ]
        },
        {
            "metadata": {},
            "cell_type": "markdown",
            "source": "<p>\n    Look at the dataframe above carefully. You will find that the last column provides the bins for \"horsepower\" based on 3 categories (\"Low\", \"Medium\" and \"High\"). \n</p>\n<p>\n    We successfully narrowed down the intervals from 59 to 3!\n</p>\n"
        },
        {
            "metadata": {},
            "cell_type": "markdown",
            "source": "<h3>Bins Visualization</h3>\nNormally, a histogram is used to visualize the distribution of bins we created above. \n"
        },
        {
            "metadata": {},
            "cell_type": "code",
            "source": "%matplotlib inline\nimport matplotlib as plt\nfrom matplotlib import pyplot\n\n\n# draw historgram of attribute \"horsepower\" with bins = 3\nplt.pyplot.hist(df[\"horsepower\"], bins = 3)\n\n# set x/y labels and plot title\nplt.pyplot.xlabel(\"horsepower\")\nplt.pyplot.ylabel(\"count\")\nplt.pyplot.title(\"horsepower bins\")",
            "execution_count": 39,
            "outputs": [
                {
                    "output_type": "execute_result",
                    "execution_count": 39,
                    "data": {
                        "text/plain": "Text(0.5, 1.0, 'horsepower bins')"
                    },
                    "metadata": {}
                },
                {
                    "output_type": "display_data",
                    "data": {
                        "text/plain": "<Figure size 432x288 with 1 Axes>",
                        "image/png": "[encoded data removed]"
                    },
                    "metadata": {
                        "needs_background": "light"
                    }
                }
            ]
        },
        {
            "metadata": {},
            "cell_type": "markdown",
            "source": "The plot above shows the binning result for the attribute \"horsepower\".\n"
        },
        {
            "metadata": {},
            "cell_type": "markdown",
            "source": "<h2 id=\"indicator\">Indicator Variable (or Dummy Variable)</h2>\n<b>What is an indicator variable?</b>\n<p>\n    An indicator variable (or dummy variable) is a numerical variable used to label categories. They are called 'dummies' because the numbers themselves don't have inherent meaning. \n</p>\n\n<b>Why we use indicator variables?</b>\n\n<p>\n    We use indicator variables so we can use categorical variables for regression analysis in the later modules.\n</p>\n<b>Example</b>\n<p>\n    We see the column \"fuel-type\" has two unique values: \"gas\" or \"diesel\". Regression doesn't understand words, only numbers. To use this attribute in regression analysis, we convert \"fuel-type\" to indicator variables.\n</p>\n\n<p>\n    We will use pandas' method 'get_dummies' to assign numerical values to different categories of fuel type. \n</p>\n"
        },
        {
            "metadata": {},
            "cell_type": "code",
            "source": "df.columns",
            "execution_count": 40,
            "outputs": [
                {
                    "output_type": "execute_result",
                    "execution_count": 40,
                    "data": {
                        "text/plain": "Index(['symboling', 'normalized-losses', 'make', 'fuel-type', 'aspiration',\n       'num-of-doors', 'body-style', 'drive-wheels', 'engine-location',\n       'wheel-base', 'length', 'width', 'height', 'curb-weight', 'engine-type',\n       'num-of-cylinders', 'engine-size', 'fuel-system', 'bore', 'stroke',\n       'compression-ratio', 'horsepower', 'peak-rpm', 'city-mpg',\n       'highway-mpg', 'price', 'city-L/100km', 'horsepower-binned'],\n      dtype='object')"
                    },
                    "metadata": {}
                }
            ]
        },
        {
            "metadata": {},
            "cell_type": "markdown",
            "source": "Get the indicator variables and assign it to data frame \"dummy_variable\\_1\":\n"
        },
        {
            "metadata": {},
            "cell_type": "code",
            "source": "dummy_variable_1 = pd.get_dummies(df[\"fuel-type\"])\ndummy_variable_1.head()",
            "execution_count": 41,
            "outputs": [
                {
                    "output_type": "execute_result",
                    "execution_count": 41,
                    "data": {
                        "text/plain": "   diesel  gas\n0       0    1\n1       0    1\n2       0    1\n3       0    1\n4       0    1",
                        "text/html": "<div>\n<style scoped>\n    .dataframe tbody tr th:only-of-type {\n        vertical-align: middle;\n    }\n\n    .dataframe tbody tr th {\n        vertical-align: top;\n    }\n\n    .dataframe thead th {\n        text-align: right;\n    }\n</style>\n<table border=\"1\" class=\"dataframe\">\n  <thead>\n    <tr style=\"text-align: right;\">\n      <th></th>\n      <th>diesel</th>\n      <th>gas</th>\n    </tr>\n  </thead>\n  <tbody>\n    <tr>\n      <th>0</th>\n      <td>0</td>\n      <td>1</td>\n    </tr>\n    <tr>\n      <th>1</th>\n      <td>0</td>\n      <td>1</td>\n    </tr>\n    <tr>\n      <th>2</th>\n      <td>0</td>\n      <td>1</td>\n    </tr>\n    <tr>\n      <th>3</th>\n      <td>0</td>\n      <td>1</td>\n    </tr>\n    <tr>\n      <th>4</th>\n      <td>0</td>\n      <td>1</td>\n    </tr>\n  </tbody>\n</table>\n</div>"
                    },
                    "metadata": {}
                }
            ]
        },
        {
            "metadata": {},
            "cell_type": "markdown",
            "source": "Change the column names for clarity:\n"
        },
        {
            "metadata": {},
            "cell_type": "code",
            "source": "dummy_variable_1.rename(columns={'gas':'fuel-type-gas', 'diesel':'fuel-type-diesel'}, inplace=True)\ndummy_variable_1.head()",
            "execution_count": 42,
            "outputs": [
                {
                    "output_type": "execute_result",
                    "execution_count": 42,
                    "data": {
                        "text/plain": "   fuel-type-diesel  fuel-type-gas\n0                 0              1\n1                 0              1\n2                 0              1\n3                 0              1\n4                 0              1",
                        "text/html": "<div>\n<style scoped>\n    .dataframe tbody tr th:only-of-type {\n        vertical-align: middle;\n    }\n\n    .dataframe tbody tr th {\n        vertical-align: top;\n    }\n\n    .dataframe thead th {\n        text-align: right;\n    }\n</style>\n<table border=\"1\" class=\"dataframe\">\n  <thead>\n    <tr style=\"text-align: right;\">\n      <th></th>\n      <th>fuel-type-diesel</th>\n      <th>fuel-type-gas</th>\n    </tr>\n  </thead>\n  <tbody>\n    <tr>\n      <th>0</th>\n      <td>0</td>\n      <td>1</td>\n    </tr>\n    <tr>\n      <th>1</th>\n      <td>0</td>\n      <td>1</td>\n    </tr>\n    <tr>\n      <th>2</th>\n      <td>0</td>\n      <td>1</td>\n    </tr>\n    <tr>\n      <th>3</th>\n      <td>0</td>\n      <td>1</td>\n    </tr>\n    <tr>\n      <th>4</th>\n      <td>0</td>\n      <td>1</td>\n    </tr>\n  </tbody>\n</table>\n</div>"
                    },
                    "metadata": {}
                }
            ]
        },
        {
            "metadata": {},
            "cell_type": "markdown",
            "source": "In the dataframe, column 'fuel-type' has values for 'gas' and 'diesel' as 0s and 1s now.\n"
        },
        {
            "metadata": {},
            "cell_type": "code",
            "source": "# merge data frame \"df\" and \"dummy_variable_1\" \ndf = pd.concat([df, dummy_variable_1], axis=1)\n\n# drop original column \"fuel-type\" from \"df\"\ndf.drop(\"fuel-type\", axis = 1, inplace=True)",
            "execution_count": 43,
            "outputs": []
        },
        {
            "metadata": {},
            "cell_type": "code",
            "source": "df.head()",
            "execution_count": 44,
            "outputs": [
                {
                    "output_type": "execute_result",
                    "execution_count": 44,
                    "data": {
                        "text/plain": "   symboling  normalized-losses         make aspiration num-of-doors  \\\n0          3                122  alfa-romero        std          two   \n1          3                122  alfa-romero        std          two   \n2          1                122  alfa-romero        std          two   \n3          2                164         audi        std         four   \n4          2                164         audi        std         four   \n\n    body-style drive-wheels engine-location  wheel-base    length  ...  \\\n0  convertible          rwd           front        88.6  0.811148  ...   \n1  convertible          rwd           front        88.6  0.811148  ...   \n2    hatchback          rwd           front        94.5  0.822681  ...   \n3        sedan          fwd           front        99.8  0.848630  ...   \n4        sedan          4wd           front        99.4  0.848630  ...   \n\n   compression-ratio  horsepower  peak-rpm city-mpg highway-mpg    price  \\\n0                9.0         111    5000.0       21          27  13495.0   \n1                9.0         111    5000.0       21          27  16500.0   \n2                9.0         154    5000.0       19          26  16500.0   \n3               10.0         102    5500.0       24          30  13950.0   \n4                8.0         115    5500.0       18          22  17450.0   \n\n  city-L/100km  horsepower-binned  fuel-type-diesel  fuel-type-gas  \n0    11.190476                Low                 0              1  \n1    11.190476                Low                 0              1  \n2    12.368421             Medium                 0              1  \n3     9.791667                Low                 0              1  \n4    13.055556                Low                 0              1  \n\n[5 rows x 29 columns]",
                        "text/html": "<div>\n<style scoped>\n    .dataframe tbody tr th:only-of-type {\n        vertical-align: middle;\n    }\n\n    .dataframe tbody tr th {\n        vertical-align: top;\n    }\n\n    .dataframe thead th {\n        text-align: right;\n    }\n</style>\n<table border=\"1\" class=\"dataframe\">\n  <thead>\n    <tr style=\"text-align: right;\">\n      <th></th>\n      <th>symboling</th>\n      <th>normalized-losses</th>\n      <th>make</th>\n      <th>aspiration</th>\n      <th>num-of-doors</th>\n      <th>body-style</th>\n      <th>drive-wheels</th>\n      <th>engine-location</th>\n      <th>wheel-base</th>\n      <th>length</th>\n      <th>...</th>\n      <th>compression-ratio</th>\n      <th>horsepower</th>\n      <th>peak-rpm</th>\n      <th>city-mpg</th>\n      <th>highway-mpg</th>\n      <th>price</th>\n      <th>city-L/100km</th>\n      <th>horsepower-binned</th>\n      <th>fuel-type-diesel</th>\n      <th>fuel-type-gas</th>\n    </tr>\n  </thead>\n  <tbody>\n    <tr>\n      <th>0</th>\n      <td>3</td>\n      <td>122</td>\n      <td>alfa-romero</td>\n      <td>std</td>\n      <td>two</td>\n      <td>convertible</td>\n      <td>rwd</td>\n      <td>front</td>\n      <td>88.6</td>\n      <td>0.811148</td>\n      <td>...</td>\n      <td>9.0</td>\n      <td>111</td>\n      <td>5000.0</td>\n      <td>21</td>\n      <td>27</td>\n      <td>13495.0</td>\n      <td>11.190476</td>\n      <td>Low</td>\n      <td>0</td>\n      <td>1</td>\n    </tr>\n    <tr>\n      <th>1</th>\n      <td>3</td>\n      <td>122</td>\n      <td>alfa-romero</td>\n      <td>std</td>\n      <td>two</td>\n      <td>convertible</td>\n      <td>rwd</td>\n      <td>front</td>\n      <td>88.6</td>\n      <td>0.811148</td>\n      <td>...</td>\n      <td>9.0</td>\n      <td>111</td>\n      <td>5000.0</td>\n      <td>21</td>\n      <td>27</td>\n      <td>16500.0</td>\n      <td>11.190476</td>\n      <td>Low</td>\n      <td>0</td>\n      <td>1</td>\n    </tr>\n    <tr>\n      <th>2</th>\n      <td>1</td>\n      <td>122</td>\n      <td>alfa-romero</td>\n      <td>std</td>\n      <td>two</td>\n      <td>hatchback</td>\n      <td>rwd</td>\n      <td>front</td>\n      <td>94.5</td>\n      <td>0.822681</td>\n      <td>...</td>\n      <td>9.0</td>\n      <td>154</td>\n      <td>5000.0</td>\n      <td>19</td>\n      <td>26</td>\n      <td>16500.0</td>\n      <td>12.368421</td>\n      <td>Medium</td>\n      <td>0</td>\n      <td>1</td>\n    </tr>\n    <tr>\n      <th>3</th>\n      <td>2</td>\n      <td>164</td>\n      <td>audi</td>\n      <td>std</td>\n      <td>four</td>\n      <td>sedan</td>\n      <td>fwd</td>\n      <td>front</td>\n      <td>99.8</td>\n      <td>0.848630</td>\n      <td>...</td>\n      <td>10.0</td>\n      <td>102</td>\n      <td>5500.0</td>\n      <td>24</td>\n      <td>30</td>\n      <td>13950.0</td>\n      <td>9.791667</td>\n      <td>Low</td>\n      <td>0</td>\n      <td>1</td>\n    </tr>\n    <tr>\n      <th>4</th>\n      <td>2</td>\n      <td>164</td>\n      <td>audi</td>\n      <td>std</td>\n      <td>four</td>\n      <td>sedan</td>\n      <td>4wd</td>\n      <td>front</td>\n      <td>99.4</td>\n      <td>0.848630</td>\n      <td>...</td>\n      <td>8.0</td>\n      <td>115</td>\n      <td>5500.0</td>\n      <td>18</td>\n      <td>22</td>\n      <td>17450.0</td>\n      <td>13.055556</td>\n      <td>Low</td>\n      <td>0</td>\n      <td>1</td>\n    </tr>\n  </tbody>\n</table>\n<p>5 rows \u00d7 29 columns</p>\n</div>"
                    },
                    "metadata": {}
                }
            ]
        },
        {
            "metadata": {},
            "cell_type": "markdown",
            "source": "The last two columns are now the indicator variable representation of the fuel-type variable. They're all 0s and 1s now.\n"
        },
        {
            "metadata": {},
            "cell_type": "markdown",
            "source": "<div class=\"alert alert-danger alertdanger\" style=\"margin-top: 20px\">\n<h1> Question  #4: </h1>\n\n<b>Similar to before, create an indicator variable for the column \"aspiration\"</b>\n\n</div>\n"
        },
        {
            "metadata": {},
            "cell_type": "code",
            "source": "# Write your code below and press Shift+Enter to execute \n# get indicator variables of aspiration and assign it to data frame \"dummy_variable_2\"\ndummy_variable_2 = pd.get_dummies(df['aspiration'])\n\n# change column names for clarity\ndummy_variable_2.rename(columns={'std':'aspiration-std', 'turbo': 'aspiration-turbo'}, inplace=True)\n\n# show first 5 instances of data frame \"dummy_variable_1\"\ndummy_variable_2.head()",
            "execution_count": 51,
            "outputs": [
                {
                    "output_type": "execute_result",
                    "execution_count": 51,
                    "data": {
                        "text/plain": "   aspiration-std  aspiration-turbo\n0               1                 0\n1               1                 0\n2               1                 0\n3               1                 0\n4               1                 0",
                        "text/html": "<div>\n<style scoped>\n    .dataframe tbody tr th:only-of-type {\n        vertical-align: middle;\n    }\n\n    .dataframe tbody tr th {\n        vertical-align: top;\n    }\n\n    .dataframe thead th {\n        text-align: right;\n    }\n</style>\n<table border=\"1\" class=\"dataframe\">\n  <thead>\n    <tr style=\"text-align: right;\">\n      <th></th>\n      <th>aspiration-std</th>\n      <th>aspiration-turbo</th>\n    </tr>\n  </thead>\n  <tbody>\n    <tr>\n      <th>0</th>\n      <td>1</td>\n      <td>0</td>\n    </tr>\n    <tr>\n      <th>1</th>\n      <td>1</td>\n      <td>0</td>\n    </tr>\n    <tr>\n      <th>2</th>\n      <td>1</td>\n      <td>0</td>\n    </tr>\n    <tr>\n      <th>3</th>\n      <td>1</td>\n      <td>0</td>\n    </tr>\n    <tr>\n      <th>4</th>\n      <td>1</td>\n      <td>0</td>\n    </tr>\n  </tbody>\n</table>\n</div>"
                    },
                    "metadata": {}
                }
            ]
        },
        {
            "metadata": {},
            "cell_type": "markdown",
            "source": "<details><summary>Click here for the solution</summary>\n\n```python\n# get indicator variables of aspiration and assign it to data frame \"dummy_variable_2\"\ndummy_variable_2 = pd.get_dummies(df['aspiration'])\n\n# change column names for clarity\ndummy_variable_2.rename(columns={'std':'aspiration-std', 'turbo': 'aspiration-turbo'}, inplace=True)\n\n# show first 5 instances of data frame \"dummy_variable_1\"\ndummy_variable_2.head()\n\n\n```\n\n</details>\n"
        },
        {
            "metadata": {},
            "cell_type": "markdown",
            "source": " <div class=\"alert alert-danger alertdanger\" style=\"margin-top: 20px\">\n<h1> Question  #5: </h1>\n\n<b>Merge the new dataframe to the original dataframe, then drop the column 'aspiration'.</b>\n\n</div>\n"
        },
        {
            "metadata": {},
            "cell_type": "code",
            "source": "# Write your code below and press Shift+Enter to execute \n# merge the new dataframe to the original datafram\ndf = pd.concat([df, dummy_variable_2], axis=1)\n\n# drop original column \"aspiration\" from \"df\"\ndf.drop('aspiration', axis = 1, inplace=True)",
            "execution_count": 52,
            "outputs": []
        },
        {
            "metadata": {},
            "cell_type": "markdown",
            "source": "<details><summary>Click here for the solution</summary>\n\n```python\n# merge the new dataframe to the original datafram\ndf = pd.concat([df, dummy_variable_2], axis=1)\n\n# drop original column \"aspiration\" from \"df\"\ndf.drop('aspiration', axis = 1, inplace=True)\n\n\n```\n\n</details>\n"
        },
        {
            "metadata": {},
            "cell_type": "markdown",
            "source": "Save the new csv:\n"
        },
        {
            "metadata": {},
            "cell_type": "code",
            "source": "df.to_csv('clean_df.csv')",
            "execution_count": 53,
            "outputs": []
        },
        {
            "metadata": {},
            "cell_type": "code",
            "source": "from IPython.display import HTML\nimport base64\n\ndef create_download_link( df, title = \"Download CSV file\", filename = \"clean_df.csv\"):  \n    csv = df.to_csv()\n    b64 = base64.b64encode(csv.encode())\n    payload = b64.decode()\n    html = '<a download=\"{filename}\" href=\"data:text/csv;base64,{payload}\" target=\"_blank\">{title}</a>'\n    html = html.format(payload=payload,title=title,filename=filename)\n    return HTML(html)\n\nref = create_download_link(df)\nref",
            "execution_count": 55,
            "outputs": [
                {
                    "output_type": "execute_result",
                    "execution_count": 55,
                    "data": {
                        "text/plain": "<IPython.core.display.HTML object>",
                        "text/html": "<a download=\"clean_df.csv\" href=\"data:text/csv;base64,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\" target=\"_blank\">Download CSV file</a>"
                    },
                    "metadata": {}
                }
            ]
        },
        {
            "metadata": {},
            "cell_type": "markdown",
            "source": "### Thank you for completing this lab!\n\n## Author\n\n<a href=\"https://www.linkedin.com/in/joseph-s-50398b136/?utm_medium=Exinfluencer&utm_source=Exinfluencer&utm_content=000026UJ&utm_term=10006555&utm_id=NA-SkillsNetwork-Channel-SkillsNetworkCoursesIBMDeveloperSkillsNetworkDA0101ENSkillsNetwork20235326-2021-01-01\" target=\"_blank\">Joseph Santarcangelo</a>\n\n### Other Contributors\n\n<a href=\"https://www.linkedin.com/in/mahdi-noorian-58219234/?utm_medium=Exinfluencer&utm_source=Exinfluencer&utm_content=000026UJ&utm_term=10006555&utm_id=NA-SkillsNetwork-Channel-SkillsNetworkCoursesIBMDeveloperSkillsNetworkDA0101ENSkillsNetwork20235326-2021-01-01\" target=\"_blank\">Mahdi Noorian PhD</a>\n\nBahare Talayian\n\nEric Xiao\n\nSteven Dong\n\nParizad\n\nHima Vasudevan\n\n<a href=\"https://www.linkedin.com/in/fiorellawever/?utm_medium=Exinfluencer&utm_source=Exinfluencer&utm_content=000026UJ&utm_term=10006555&utm_id=NA-SkillsNetwork-Channel-SkillsNetworkCoursesIBMDeveloperSkillsNetworkDA0101ENSkillsNetwork20235326-2021-01-01\" target=\"_blank\">Fiorella Wenver</a>\n\n<a href=\"https:// https://www.linkedin.com/in/yi-leng-yao-84451275/ \" target=\"_blank\" >Yi Yao</a>.\n\n## Change Log\n\n| Date (YYYY-MM-DD) | Version | Changed By | Change Description                  |\n| ----------------- | ------- | ---------- | ----------------------------------- |\n| 2020-10-30        | 2.2     | Lakshmi    | Changed URL of csv                  |\n| 2020-09-09        | 2.1     | Lakshmi    | Updated Indicator Variables section |\n| 2020-08-27        | 2.0     | Lavanya    | Moved lab to course repo in GitLab  |\n\n<hr>\n\n## <h3 align=\"center\"> \u00a9 IBM Corporation 2020. All rights reserved. <h3/>\n"
        }
    ],
    "metadata": {
        "anaconda-cloud": {},
        "kernelspec": {
            "name": "python3",
            "display_name": "Python 3.8",
            "language": "python"
        },
        "language_info": {
            "name": "python",
            "version": "3.8.12",
            "mimetype": "text/x-python",
            "codemirror_mode": {
                "name": "ipython",
                "version": 3
            },
            "pygments_lexer": "ipython3",
            "nbconvert_exporter": "python",
            "file_extension": ".py"
        }
    },
    "nbformat": 4,
    "nbformat_minor": 4
}