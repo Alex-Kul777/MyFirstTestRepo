{
    "cells": [
        {
            "metadata": {},
            "cell_type": "markdown",
            "source": "<center>\n    <img src=\"https://s3-api.us-geo.objectstorage.softlayer.net/cf-courses-data/CognitiveClass/Logos/organization_logo/organization_logo.png\" width=\"300\" alt=\"cognitiveclass.ai logo\"  />\n</center>\n\n<h1 align=center><font size = 5>Assignment: Notebook for Peer Assignment</font></h1>\n"
        },
        {
            "metadata": {},
            "cell_type": "markdown",
            "source": "# Introduction\n\nUsing this Python notebook you will:\n\n1.  Understand three Chicago datasets\n2.  Load the three datasets into three tables in a Db2 database\n3.  Execute SQL queries to answer assignment questions\n"
        },
        {
            "metadata": {},
            "cell_type": "markdown",
            "source": "## Understand the datasets\n\nTo complete the assignment problems in this notebook you will be using three datasets that are available on the city of Chicago's Data Portal:\n\n1.  <a href=\"https://data.cityofchicago.org/Health-Human-Services/Census-Data-Selected-socioeconomic-indicators-in-C/kn9c-c2s2?utm_medium=Exinfluencer&utm_source=Exinfluencer&utm_content=000026UJ&utm_term=10006555&utm_id=NA-SkillsNetwork-Channel-SkillsNetworkCoursesIBMDeveloperSkillsNetworkDB0201ENSkillsNetwork20127838-2021-01-01\">Socioeconomic Indicators in Chicago</a>\n2.  <a href=\"https://data.cityofchicago.org/Education/Chicago-Public-Schools-Progress-Report-Cards-2011-/9xs2-f89t?utm_medium=Exinfluencer&utm_source=Exinfluencer&utm_content=000026UJ&utm_term=10006555&utm_id=NA-SkillsNetwork-Channel-SkillsNetworkCoursesIBMDeveloperSkillsNetworkDB0201ENSkillsNetwork20127838-2021-01-01\">Chicago Public Schools</a>\n3.  <a href=\"https://data.cityofchicago.org/Public-Safety/Crimes-2001-to-present/ijzp-q8t2?utm_medium=Exinfluencer&utm_source=Exinfluencer&utm_content=000026UJ&utm_term=10006555&utm_id=NA-SkillsNetwork-Channel-SkillsNetworkCoursesIBMDeveloperSkillsNetworkDB0201ENSkillsNetwork20127838-2021-01-01\">Chicago Crime Data</a>\n\n### 1. Socioeconomic Indicators in Chicago\n\nThis dataset contains a selection of six socioeconomic indicators of public health significance and a \u201chardship index,\u201d for each Chicago community area, for the years 2008 \u2013 2012.\n\nA detailed description of this dataset and the original dataset can be obtained from the Chicago Data Portal at:\n[https://data.cityofchicago.org/Health-Human-Services/Census-Data-Selected-socioeconomic-indicators-in-C/kn9c-c2s2](https://data.cityofchicago.org/Health-Human-Services/Census-Data-Selected-socioeconomic-indicators-in-C/kn9c-c2s2?utm_medium=Exinfluencer&utm_source=Exinfluencer&utm_content=000026UJ&utm_term=10006555&utm_id=NA-SkillsNetwork-Channel-SkillsNetworkCoursesIBMDeveloperSkillsNetworkDB0201ENSkillsNetwork20127838-2021-01-01&cm_mmc=Email_Newsletter-\\_-Developer_Ed%2BTech-\\_-WW_WW-\\_-SkillsNetwork-Courses-IBMDeveloperSkillsNetwork-DB0201EN-SkillsNetwork-20127838&cm_mmca1=000026UJ&cm_mmca2=10006555&cm_mmca3=M12345678&cvosrc=email.Newsletter.M12345678&cvo_campaign=000026UJ)\n\n### 2. Chicago Public Schools\n\nThis dataset shows all school level performance data used to create CPS School Report Cards for the 2011-2012 school year. This dataset is provided by the city of Chicago's Data Portal.\n\nA detailed description of this dataset and the original dataset can be obtained from the Chicago Data Portal at:\n[https://data.cityofchicago.org/Education/Chicago-Public-Schools-Progress-Report-Cards-2011-/9xs2-f89t](https://data.cityofchicago.org/Education/Chicago-Public-Schools-Progress-Report-Cards-2011-/9xs2-f89t?utm_medium=Exinfluencer&utm_source=Exinfluencer&utm_content=000026UJ&utm_term=10006555&utm_id=NA-SkillsNetwork-Channel-SkillsNetworkCoursesIBMDeveloperSkillsNetworkDB0201ENSkillsNetwork20127838-2021-01-01&cm_mmc=Email_Newsletter-\\_-Developer_Ed%2BTech-\\_-WW_WW-\\_-SkillsNetwork-Courses-IBMDeveloperSkillsNetwork-DB0201EN-SkillsNetwork-20127838&cm_mmca1=000026UJ&cm_mmca2=10006555&cm_mmca3=M12345678&cvosrc=email.Newsletter.M12345678&cvo_campaign=000026UJ)\n\n### 3. Chicago Crime Data\n\nThis dataset reflects reported incidents of crime (with the exception of murders where data exists for each victim) that occurred in the City of Chicago from 2001 to present, minus the most recent seven days.\n\nA detailed description of this dataset and the original dataset can be obtained from the Chicago Data Portal at:\n[https://data.cityofchicago.org/Public-Safety/Crimes-2001-to-present/ijzp-q8t2](https://data.cityofchicago.org/Public-Safety/Crimes-2001-to-present/ijzp-q8t2?utm_medium=Exinfluencer&utm_source=Exinfluencer&utm_content=000026UJ&utm_term=10006555&utm_id=NA-SkillsNetwork-Channel-SkillsNetworkCoursesIBMDeveloperSkillsNetworkDB0201ENSkillsNetwork20127838-2021-01-01&cm_mmc=Email_Newsletter-\\_-Developer_Ed%2BTech-\\_-WW_WW-\\_-SkillsNetwork-Courses-IBMDeveloperSkillsNetwork-DB0201EN-SkillsNetwork-20127838&cm_mmca1=000026UJ&cm_mmca2=10006555&cm_mmca3=M12345678&cvosrc=email.Newsletter.M12345678&cvo_campaign=000026UJ)\n"
        },
        {
            "metadata": {},
            "cell_type": "markdown",
            "source": "### Download the datasets\n\nThis assignment requires you to have these three tables populated with a subset of the whole datasets.\n\nIn many cases the dataset to be analyzed is available as a .CSV (comma separated values) file, perhaps on the internet. Click on the links below to download and save the datasets (.CSV files):\n\n*   <a href=\"https://cf-courses-data.s3.us.cloud-object-storage.appdomain.cloud/IBMDeveloperSkillsNetwork-DB0201EN-SkillsNetwork/labs/FinalModule_Coursera_V5/data/ChicagoCensusData.csv?utm_medium=Exinfluencer&utm_source=Exinfluencer&utm_content=000026UJ&utm_term=10006555&utm_id=NA-SkillsNetwork-Channel-SkillsNetworkCoursesIBMDeveloperSkillsNetworkDB0201ENSkillsNetwork20127838-2021-01-01\" target=\"_blank\">Chicago Census Data</a>\n\n*   <a href=\"https://cf-courses-data.s3.us.cloud-object-storage.appdomain.cloud/IBMDeveloperSkillsNetwork-DB0201EN-SkillsNetwork/labs/FinalModule_Coursera_V5/data/ChicagoPublicSchools.csv?utm_medium=Exinfluencer&utm_source=Exinfluencer&utm_content=000026UJ&utm_term=10006555&utm_id=NA-SkillsNetwork-Channel-SkillsNetworkCoursesIBMDeveloperSkillsNetworkDB0201ENSkillsNetwork20127838-2021-01-01\" target=\"_blank\">Chicago Public Schools</a>\n\n*   <a href=\"https://cf-courses-data.s3.us.cloud-object-storage.appdomain.cloud/IBMDeveloperSkillsNetwork-DB0201EN-SkillsNetwork/labs/FinalModule_Coursera_V5/data/ChicagoCrimeData.csv?utm_medium=Exinfluencer&utm_source=Exinfluencer&utm_content=000026UJ&utm_term=10006555&utm_id=NA-SkillsNetwork-Channel-SkillsNetworkCoursesIBMDeveloperSkillsNetworkDB0201ENSkillsNetwork20127838-2021-01-01\" target=\"_blank\">Chicago Crime Data</a>\n\n**NOTE:** Ensure you have downloaded the datasets using the links above instead of directly from the Chicago Data Portal. The versions linked here are subsets of the original datasets and have some of the column names modified to be more database friendly which will make it easier to complete this assignment.\n"
        },
        {
            "metadata": {},
            "cell_type": "markdown",
            "source": "### Store the datasets in database tables\n\nTo analyze the data using SQL, it first needs to be stored in the database.\n\nWhile it is easier to read the dataset into a Pandas dataframe and then PERSIST it into the database as we saw in Week 3 Lab 3, it results in mapping to default datatypes which may not be optimal for SQL querying. For example a long textual field may map to a CLOB instead of a VARCHAR.\n\nTherefore, **it is highly recommended to manually load the table using the database console LOAD tool, as indicated in Week 2 Lab 1 Part II**. The only difference with that lab is that in Step 5 of the instructions you will need to click on create \"(+) New Table\" and specify the name of the table you want to create and then click \"Next\".\n\n<img src = \"https://cf-courses-data.s3.us.cloud-object-storage.appdomain.cloud/IBMDeveloperSkillsNetwork-DB0201EN-SkillsNetwork/labs/FinalModule_Coursera_V5/images/LoadingData.png\">\n\n##### Now open the Db2 console, open the LOAD tool, Select / Drag the .CSV file for the first dataset, Next create a New Table, and then follow the steps on-screen instructions to load the data. Name the new tables as follows:\n\n1.  **CENSUS_DATA**\n2.  **CHICAGO_PUBLIC_SCHOOLS**\n3.  **CHICAGO_CRIME_DATA**\n"
        },
        {
            "metadata": {},
            "cell_type": "markdown",
            "source": "### Connect to the database\n\nLet us first load the SQL extension and establish a connection with the database\n\nThe following required modules are pre-installed in the Skills Network Labs environment. However if you run this notebook commands in a different Jupyter environment (e.g. Watson Studio or Ananconda) you may need to install these libraries by removing the `#` sign before `!pip` in the code cell below.\n"
        },
        {
            "metadata": {},
            "cell_type": "code",
            "source": "# These libraries are pre-installed in SN Labs. If running in another environment please uncomment lines below to install them:\n# !pip install --force-reinstall ibm_db==3.1.0 ibm_db_sa==0.3.3\n# Ensure we don't load_ext with sqlalchemy>=1.4 (incompadible)\n# !pip uninstall sqlalchemy==1.4 -y && pip install sqlalchemy==1.3.24\n# !pip install ipython-sql",
            "execution_count": 86,
            "outputs": []
        },
        {
            "metadata": {},
            "cell_type": "code",
            "source": "%load_ext sql",
            "execution_count": 87,
            "outputs": [
                {
                    "name": "stdout",
                    "output_type": "stream",
                    "text": "The sql extension is already loaded. To reload it, use:\n  %reload_ext sql\n"
                }
            ]
        },
        {
            "metadata": {},
            "cell_type": "markdown",
            "source": "In the next cell enter your db2 connection string. Recall you created Service Credentials for your Db2 instance in first lab in Week 3. From your Db2 service credentials copy everything after db2:// (except the double quote at the end) and paste it in the cell below after ibm_db_sa://\n\n<img src =\"https://cf-courses-data.s3.us.cloud-object-storage.appdomain.cloud/IBMDeveloperSkillsNetwork-DB0201EN-SkillsNetwork/labs/FinalModule_Coursera_V5/images/details.png\">\n"
        },
        {
            "metadata": {},
            "cell_type": "code",
            "source": "# Remember the connection string is of the format:\n# %sql ibm_db_sa://my-username:my-password@my-hostname:my-port/my-db-name?security=SSL\n# Enter the connection string for your Db2 on Cloud database instance below\n\n%sql ibm_db_sa://jzs16447:O6cDm3XfZIfeTUIy@764264db-9824-4b7c-82df-40d1b13897c2.bs2io90l08kqb1od8lcg.databases.appdomain.cloud:32536/BLUDB?security=SSL",
            "execution_count": 88,
            "outputs": [
                {
                    "data": {
                        "text/plain": "'Connected: jzs16447@BLUDB'"
                    },
                    "execution_count": 88,
                    "metadata": {},
                    "output_type": "execute_result"
                }
            ]
        },
        {
            "metadata": {},
            "cell_type": "code",
            "source": "%sql select count(*) from SYSCAT.COLUMNS where TABNAME = 'CHICAGO_CRIME_DATA'",
            "execution_count": 89,
            "outputs": [
                {
                    "name": "stdout",
                    "output_type": "stream",
                    "text": " * ibm_db_sa://jzs16447:***@764264db-9824-4b7c-82df-40d1b13897c2.bs2io90l08kqb1od8lcg.databases.appdomain.cloud:32536/BLUDB\nDone.\n"
                },
                {
                    "data": {
                        "text/html": "<table>\n    <thead>\n        <tr>\n            <th>1</th>\n        </tr>\n    </thead>\n    <tbody>\n        <tr>\n            <td>22</td>\n        </tr>\n    </tbody>\n</table>",
                        "text/plain": "[(22,)]"
                    },
                    "execution_count": 89,
                    "metadata": {},
                    "output_type": "execute_result"
                }
            ]
        },
        {
            "metadata": {},
            "cell_type": "code",
            "source": "%sql DROP TABLE CHICAGO_CRIME_DATA;",
            "execution_count": 90,
            "outputs": [
                {
                    "name": "stdout",
                    "output_type": "stream",
                    "text": " * ibm_db_sa://jzs16447:***@764264db-9824-4b7c-82df-40d1b13897c2.bs2io90l08kqb1od8lcg.databases.appdomain.cloud:32536/BLUDB\nDone.\n"
                },
                {
                    "data": {
                        "text/plain": "[]"
                    },
                    "execution_count": 90,
                    "metadata": {},
                    "output_type": "execute_result"
                }
            ]
        },
        {
            "metadata": {},
            "cell_type": "code",
            "source": "%%sql\nCREATE TABLE  CHICAGO_CRIME_DATA\n  (\n  index INT GENERATED BY DEFAULT AS IDENTITY NOT NULL,\n  ID  BIGINT,\n  CASE_NUMBER  VARCHAR(100), \n  \"DATE\"  VARCHAR(100),\n  BLOCK  VARCHAR(100),\n  IUCR  VARCHAR(100),\n  PRIMARY_TYPE  VARCHAR(100) ,\n  DESCRIPTION  VARCHAR(100),\n  LOCATION_DESCRIPTION  VARCHAR(100)  ,\n  ARREST  SMALLINT ,\n  DOMESTIC  SMALLINT ,\n  BEAT  BIGINT ,\n  DISTRICT  BIGINT ,\n  WARD  DOUBLE ,\n  COMMUNITY_AREA_NUMBER  DOUBLE ,\n  FBICODE  VARCHAR(100)  ,\n  X_COORDINATE  DOUBLE ,\n  Y_COORDINATE  DOUBLE ,\n  YEAR  BIGINT ,\n  LATITUDE  DOUBLE ,\n  LONGITUDE  DOUBLE ,\n  LOCATION  VARCHAR(100)  \n  --Search condition (e.g. WHERE \"index\" = NULL)\n  );",
            "execution_count": 91,
            "outputs": [
                {
                    "name": "stdout",
                    "output_type": "stream",
                    "text": " * ibm_db_sa://jzs16447:***@764264db-9824-4b7c-82df-40d1b13897c2.bs2io90l08kqb1od8lcg.databases.appdomain.cloud:32536/BLUDB\nDone.\n"
                },
                {
                    "data": {
                        "text/plain": "[]"
                    },
                    "execution_count": 91,
                    "metadata": {},
                    "output_type": "execute_result"
                }
            ]
        },
        {
            "metadata": {},
            "cell_type": "code",
            "source": "import pandas\nCHICAGO_CRIME_DATA = pandas.read_csv('https://cf-courses-data.s3.us.cloud-object-storage.appdomain.cloud/IBMDeveloperSkillsNetwork-DB0201EN-SkillsNetwork/labs/FinalModule_Coursera_V5/data/ChicagoCrimeData.csv')\n",
            "execution_count": 92,
            "outputs": []
        },
        {
            "metadata": {},
            "cell_type": "markdown",
            "source": "%sql DROP TABLE CHICAGO_CRIME_DATA;"
        },
        {
            "metadata": {},
            "cell_type": "markdown",
            "source": "import pandas\n\nCHICAGO_CRIME_DATA = pandas.read_csv('https://cf-courses-data.s3.us.cloud-object-storage.appdomain.cloud/IBMDeveloperSkillsNetwork-DB0201EN-SkillsNetwork/labs/FinalModule_Coursera_V5/data/ChicagoCrimeData.csv')\n"
        },
        {
            "metadata": {},
            "cell_type": "code",
            "source": "# import the module\nfrom sqlalchemy import create_engine\n\n# create sqlalchemy engine\nengine = create_engine(\"ibm_db_sa://jzs16447:O6cDm3XfZIfeTUIy@764264db-9824-4b7c-82df-40d1b13897c2.bs2io90l08kqb1od8lcg.databases.appdomain.cloud:32536/BLUDB?security=SSL\")\n#Checking Connection \nconnected = pandas.io.sql._is_sqlalchemy_connectable(engine)\n\nprint(connected)   #Output is True if connection established successfully",
            "execution_count": 93,
            "outputs": [
                {
                    "name": "stdout",
                    "output_type": "stream",
                    "text": "True\n"
                }
            ]
        },
        {
            "metadata": {},
            "cell_type": "code",
            "source": "# Insert whole DataFrame into MySQL\nCHICAGO_CRIME_DATA.to_sql('CHICAGO_CRIME_DATA', con=engine,if_exists='append', chunksize = 1000, index=False)",
            "execution_count": 94,
            "outputs": []
        },
        {
            "metadata": {},
            "cell_type": "code",
            "source": "%%sql \nselect distinct primary_type from CHICAGO_CRIME_DATA  limit 10",
            "execution_count": 95,
            "outputs": [
                {
                    "name": "stdout",
                    "output_type": "stream",
                    "text": " * ibm_db_sa://jzs16447:***@764264db-9824-4b7c-82df-40d1b13897c2.bs2io90l08kqb1od8lcg.databases.appdomain.cloud:32536/BLUDB\nDone.\n"
                },
                {
                    "data": {
                        "text/html": "<table>\n    <thead>\n        <tr>\n            <th>primary_type</th>\n        </tr>\n    </thead>\n    <tbody>\n        <tr>\n            <td>ARSON</td>\n        </tr>\n        <tr>\n            <td>ASSAULT</td>\n        </tr>\n        <tr>\n            <td>BATTERY</td>\n        </tr>\n        <tr>\n            <td>BURGLARY</td>\n        </tr>\n        <tr>\n            <td>CONCEALED CARRY LICENSE VIOLATION</td>\n        </tr>\n        <tr>\n            <td>CRIM SEXUAL ASSAULT</td>\n        </tr>\n        <tr>\n            <td>CRIMINAL DAMAGE</td>\n        </tr>\n        <tr>\n            <td>CRIMINAL TRESPASS</td>\n        </tr>\n        <tr>\n            <td>DECEPTIVE PRACTICE</td>\n        </tr>\n        <tr>\n            <td>DOMESTIC VIOLENCE</td>\n        </tr>\n    </tbody>\n</table>",
                        "text/plain": "[('ARSON',),\n ('ASSAULT',),\n ('BATTERY',),\n ('BURGLARY',),\n ('CONCEALED CARRY LICENSE VIOLATION',),\n ('CRIM SEXUAL ASSAULT',),\n ('CRIMINAL DAMAGE',),\n ('CRIMINAL TRESPASS',),\n ('DECEPTIVE PRACTICE',),\n ('DOMESTIC VIOLENCE',)]"
                    },
                    "execution_count": 95,
                    "metadata": {},
                    "output_type": "execute_result"
                }
            ]
        },
        {
            "metadata": {},
            "cell_type": "code",
            "source": "CHICAGO_CRIME_DATA.dtypes",
            "execution_count": 96,
            "outputs": [
                {
                    "data": {
                        "text/plain": "ID                         int64\nCASE_NUMBER               object\nDATE                      object\nBLOCK                     object\nIUCR                      object\nPRIMARY_TYPE              object\nDESCRIPTION               object\nLOCATION_DESCRIPTION      object\nARREST                      bool\nDOMESTIC                    bool\nBEAT                       int64\nDISTRICT                   int64\nWARD                     float64\nCOMMUNITY_AREA_NUMBER    float64\nFBICODE                   object\nX_COORDINATE             float64\nY_COORDINATE             float64\nYEAR                       int64\nLATITUDE                 float64\nLONGITUDE                float64\nLOCATION                  object\ndtype: object"
                    },
                    "execution_count": 96,
                    "metadata": {},
                    "output_type": "execute_result"
                }
            ]
        },
        {
            "metadata": {},
            "cell_type": "markdown",
            "source": "CHICAGO_CRIME_DATA['CASE_NUMBER'].astype(str)"
        },
        {
            "metadata": {},
            "cell_type": "code",
            "source": "",
            "execution_count": null,
            "outputs": []
        },
        {
            "metadata": {},
            "cell_type": "markdown",
            "source": "%sql PERSIST CHICAGO_CRIME_DATA"
        },
        {
            "metadata": {},
            "cell_type": "markdown",
            "source": "%sql DROP TABLE CHICAGO_CRIME_DATA_1;"
        },
        {
            "metadata": {},
            "cell_type": "markdown",
            "source": "%%sql\nCREATE TABLE  CHICAGO_CRIME_DATA_1\n  (\n  index INT GENERATED BY DEFAULT AS IDENTITY NOT NULL,\n  ID  BIGINT,\n  CASE_NUMBER  VARCHAR(100), \n  \"DATE\"  VARCHAR(100),\n  BLOCK  VARCHAR(100),\n  IUCR  VARCHAR(100),\n  PRIMARY_TYPE  VARCHAR(100) ,\n  DESCRIPTION  VARCHAR(100),\n  LOCATION_DESCRIPTION  VARCHAR(100)  ,\n  ARREST  SMALLINT ,\n  DOMESTIC  SMALLINT ,\n  BEAT  BIGINT ,\n  DISTRICT  BIGINT ,\n  WARD  DOUBLE ,\n  COMMUNITY_AREA_NUMBER  DOUBLE ,\n  FBICODE  VARCHAR(100)  ,\n  X_COORDINATE  DOUBLE ,\n  Y_COORDINATE  DOUBLE ,\n  YEAR  BIGINT ,\n  LATITUDE  DOUBLE ,\n  LONGITUDE  DOUBLE ,\n  LOCATION  VARCHAR(100)  \n  --Search condition (e.g. WHERE \"index\" = NULL)\n  );"
        },
        {
            "metadata": {},
            "cell_type": "markdown",
            "source": "import pandas\nCHICAGO_CRIME_DATA_1 = pandas.read_csv('https://cf-courses-data.s3.us.cloud-object-storage.appdomain.cloud/IBMDeveloperSkillsNetwork-DB0201EN-SkillsNetwork/labs/FinalModule_Coursera_V5/data/ChicagoCrimeData.csv')\n"
        },
        {
            "metadata": {},
            "cell_type": "markdown",
            "source": "%sql APPEND CHICAGO_CRIME_DATA_1"
        },
        {
            "metadata": {},
            "cell_type": "markdown",
            "source": "# import the module\nfrom sqlalchemy import create_engine\n\n# create sqlalchemy engine\nengine = create_engine(\"ibm_db_sa://jzs16447:O6cDm3XfZIfeTUIy@764264db-9824-4b7c-82df-40d1b13897c2.bs2io90l08kqb1od8lcg.databases.appdomain.cloud:32536/BLUDB?security=SSL\")"
        },
        {
            "metadata": {},
            "cell_type": "markdown",
            "source": "#Checking Connection \nconnected = pandas.io.sql._is_sqlalchemy_connectable(engine)\n\nprint(connected)   #Output is True if connection established successfully"
        },
        {
            "metadata": {},
            "cell_type": "markdown",
            "source": "# Insert whole DataFrame into MySQL\nCHICAGO_CRIME_DATA_1.to_sql('CHICAGO_CRIME_DATA_1', con=engine,if_exists='append', chunksize = 1000, index=False)"
        },
        {
            "metadata": {},
            "cell_type": "markdown",
            "source": "CHICAGO_CRIME_DATA_1"
        },
        {
            "metadata": {},
            "cell_type": "markdown",
            "source": "%%sql \nselect distinct primary_type from CHICAGO_CRIME_DATA_1  limit 10"
        },
        {
            "metadata": {},
            "cell_type": "markdown",
            "source": "%%sql \nselect DISTINCT CASE_NUMBER from CHICAGO_CRIME_DATA  limit 10"
        },
        {
            "metadata": {},
            "cell_type": "markdown",
            "source": "%sql ALTER TABLE CHICAGO_CRIME_DATA ALTER COLUMN CASE_NUMBER VARCHAR(150);"
        },
        {
            "metadata": {},
            "cell_type": "markdown",
            "source": "%%sql \nselect DISTINCT c.DESCRIPTION from CHICAGO_CRIME_DATA as c limit 10"
        },
        {
            "metadata": {},
            "cell_type": "markdown",
            "source": "%sql select DISTINCT CHICAGO_CRIME_DATA.\"PRIMARY_TYPE\" from CHICAGO_CRIME_DATA limit 10"
        },
        {
            "metadata": {},
            "cell_type": "markdown",
            "source": "## Problems\n\nNow write and execute SQL queries to solve assignment problems\n\n### Problem 1\n\n##### Find the total number of crimes recorded in the CRIME table.\n"
        },
        {
            "metadata": {},
            "cell_type": "code",
            "source": "%sql select count(*) from CHICAGO_CRIME_DATA",
            "execution_count": 97,
            "outputs": [
                {
                    "name": "stdout",
                    "output_type": "stream",
                    "text": " * ibm_db_sa://jzs16447:***@764264db-9824-4b7c-82df-40d1b13897c2.bs2io90l08kqb1od8lcg.databases.appdomain.cloud:32536/BLUDB\nDone.\n"
                },
                {
                    "data": {
                        "text/html": "<table>\n    <thead>\n        <tr>\n            <th>1</th>\n        </tr>\n    </thead>\n    <tbody>\n        <tr>\n            <td>533</td>\n        </tr>\n    </tbody>\n</table>",
                        "text/plain": "[(533,)]"
                    },
                    "execution_count": 97,
                    "metadata": {},
                    "output_type": "execute_result"
                }
            ]
        },
        {
            "metadata": {},
            "cell_type": "markdown",
            "source": "### Problem 2\n\n##### List community areas with per capita income less than 11000.\n"
        },
        {
            "metadata": {},
            "cell_type": "code",
            "source": "%sql SELECT community_area_name FROM CENSUS_DATA WHERE per_capita_income < 11000;",
            "execution_count": 98,
            "outputs": [
                {
                    "name": "stdout",
                    "output_type": "stream",
                    "text": " * ibm_db_sa://jzs16447:***@764264db-9824-4b7c-82df-40d1b13897c2.bs2io90l08kqb1od8lcg.databases.appdomain.cloud:32536/BLUDB\nDone.\n"
                },
                {
                    "data": {
                        "text/html": "<table>\n    <thead>\n        <tr>\n            <th>community_area_name</th>\n        </tr>\n    </thead>\n    <tbody>\n        <tr>\n            <td>West Garfield Park</td>\n        </tr>\n        <tr>\n            <td>South Lawndale</td>\n        </tr>\n        <tr>\n            <td>Fuller Park</td>\n        </tr>\n        <tr>\n            <td>Riverdale</td>\n        </tr>\n    </tbody>\n</table>",
                        "text/plain": "[('West Garfield Park',),\n ('South Lawndale',),\n ('Fuller Park',),\n ('Riverdale',)]"
                    },
                    "execution_count": 98,
                    "metadata": {},
                    "output_type": "execute_result"
                }
            ]
        },
        {
            "metadata": {},
            "cell_type": "code",
            "source": "%sql SELECT DISTINCT primary_type FROM CHICAGO_CRIME_DATA \n#where primary_type = 'OFFENSE INVOLVING CHILDREN'",
            "execution_count": 99,
            "outputs": [
                {
                    "name": "stdout",
                    "output_type": "stream",
                    "text": " * ibm_db_sa://jzs16447:***@764264db-9824-4b7c-82df-40d1b13897c2.bs2io90l08kqb1od8lcg.databases.appdomain.cloud:32536/BLUDB\nDone.\n"
                },
                {
                    "data": {
                        "text/html": "<table>\n    <thead>\n        <tr>\n            <th>primary_type</th>\n        </tr>\n    </thead>\n    <tbody>\n        <tr>\n            <td>ARSON</td>\n        </tr>\n        <tr>\n            <td>ASSAULT</td>\n        </tr>\n        <tr>\n            <td>BATTERY</td>\n        </tr>\n        <tr>\n            <td>BURGLARY</td>\n        </tr>\n        <tr>\n            <td>CONCEALED CARRY LICENSE VIOLATION</td>\n        </tr>\n        <tr>\n            <td>CRIM SEXUAL ASSAULT</td>\n        </tr>\n        <tr>\n            <td>CRIMINAL DAMAGE</td>\n        </tr>\n        <tr>\n            <td>CRIMINAL TRESPASS</td>\n        </tr>\n        <tr>\n            <td>DECEPTIVE PRACTICE</td>\n        </tr>\n        <tr>\n            <td>DOMESTIC VIOLENCE</td>\n        </tr>\n        <tr>\n            <td>GAMBLING</td>\n        </tr>\n        <tr>\n            <td>HOMICIDE</td>\n        </tr>\n        <tr>\n            <td>HUMAN TRAFFICKING</td>\n        </tr>\n        <tr>\n            <td>INTERFERENCE WITH PUBLIC OFFICER</td>\n        </tr>\n        <tr>\n            <td>INTIMIDATION</td>\n        </tr>\n        <tr>\n            <td>KIDNAPPING</td>\n        </tr>\n        <tr>\n            <td>LIQUOR LAW VIOLATION</td>\n        </tr>\n        <tr>\n            <td>MOTOR VEHICLE THEFT</td>\n        </tr>\n        <tr>\n            <td>NARCOTICS</td>\n        </tr>\n        <tr>\n            <td>NON - CRIMINAL</td>\n        </tr>\n        <tr>\n            <td>NON-CRIMINAL</td>\n        </tr>\n        <tr>\n            <td>NON-CRIMINAL (SUBJECT SPECIFIED)</td>\n        </tr>\n        <tr>\n            <td>OBSCENITY</td>\n        </tr>\n        <tr>\n            <td>OFFENSE INVOLVING CHILDREN</td>\n        </tr>\n        <tr>\n            <td>OTHER NARCOTIC VIOLATION</td>\n        </tr>\n        <tr>\n            <td>OTHER OFFENSE</td>\n        </tr>\n        <tr>\n            <td>PROSTITUTION</td>\n        </tr>\n        <tr>\n            <td>PUBLIC INDECENCY</td>\n        </tr>\n        <tr>\n            <td>PUBLIC PEACE VIOLATION</td>\n        </tr>\n        <tr>\n            <td>RITUALISM</td>\n        </tr>\n        <tr>\n            <td>ROBBERY</td>\n        </tr>\n        <tr>\n            <td>SEX OFFENSE</td>\n        </tr>\n        <tr>\n            <td>STALKING</td>\n        </tr>\n        <tr>\n            <td>THEFT</td>\n        </tr>\n        <tr>\n            <td>WEAPONS VIOLATION</td>\n        </tr>\n    </tbody>\n</table>",
                        "text/plain": "[('ARSON',),\n ('ASSAULT',),\n ('BATTERY',),\n ('BURGLARY',),\n ('CONCEALED CARRY LICENSE VIOLATION',),\n ('CRIM SEXUAL ASSAULT',),\n ('CRIMINAL DAMAGE',),\n ('CRIMINAL TRESPASS',),\n ('DECEPTIVE PRACTICE',),\n ('DOMESTIC VIOLENCE',),\n ('GAMBLING',),\n ('HOMICIDE',),\n ('HUMAN TRAFFICKING',),\n ('INTERFERENCE WITH PUBLIC OFFICER',),\n ('INTIMIDATION',),\n ('KIDNAPPING',),\n ('LIQUOR LAW VIOLATION',),\n ('MOTOR VEHICLE THEFT',),\n ('NARCOTICS',),\n ('NON - CRIMINAL',),\n ('NON-CRIMINAL',),\n ('NON-CRIMINAL (SUBJECT SPECIFIED)',),\n ('OBSCENITY',),\n ('OFFENSE INVOLVING CHILDREN',),\n ('OTHER NARCOTIC VIOLATION',),\n ('OTHER OFFENSE',),\n ('PROSTITUTION',),\n ('PUBLIC INDECENCY',),\n ('PUBLIC PEACE VIOLATION',),\n ('RITUALISM',),\n ('ROBBERY',),\n ('SEX OFFENSE',),\n ('STALKING',),\n ('THEFT',),\n ('WEAPONS VIOLATION',)]"
                    },
                    "execution_count": 99,
                    "metadata": {},
                    "output_type": "execute_result"
                }
            ]
        },
        {
            "metadata": {},
            "cell_type": "markdown",
            "source": "%sql delete CHICAGO_CRIME_DATA"
        },
        {
            "metadata": {},
            "cell_type": "code",
            "source": "%sql select * from CHICAGO_CRIME_DATA where description like'%MINOR%'",
            "execution_count": 100,
            "outputs": [
                {
                    "name": "stdout",
                    "output_type": "stream",
                    "text": " * ibm_db_sa://jzs16447:***@764264db-9824-4b7c-82df-40d1b13897c2.bs2io90l08kqb1od8lcg.databases.appdomain.cloud:32536/BLUDB\nDone.\n"
                },
                {
                    "data": {
                        "text/html": "<table>\n    <thead>\n        <tr>\n            <th>INDEX</th>\n            <th>id</th>\n            <th>case_number</th>\n            <th>DATE</th>\n            <th>block</th>\n            <th>iucr</th>\n            <th>primary_type</th>\n            <th>description</th>\n            <th>location_description</th>\n            <th>arrest</th>\n            <th>domestic</th>\n            <th>beat</th>\n            <th>district</th>\n            <th>ward</th>\n            <th>community_area_number</th>\n            <th>fbicode</th>\n            <th>x_coordinate</th>\n            <th>y_coordinate</th>\n            <th>YEAR</th>\n            <th>latitude</th>\n            <th>longitude</th>\n            <th>location</th>\n        </tr>\n    </thead>\n    <tbody>\n        <tr>\n            <td>515</td>\n            <td>3987219</td>\n            <td>HL266884</td>\n            <td>2005-03-31</td>\n            <td>024XX N CLARK ST</td>\n            <td>2210</td>\n            <td>LIQUOR LAW VIOLATION</td>\n            <td>SELL/GIVE/DEL LIQUOR TO MINOR</td>\n            <td>CONVENIENCE STORE</td>\n            <td>1</td>\n            <td>0</td>\n            <td>2333</td>\n            <td>19</td>\n            <td>43.0</td>\n            <td>7.0</td>\n            <td>22</td>\n            <td>1172680.0</td>\n            <td>1916483.0</td>\n            <td>2005</td>\n            <td>41.92626872</td>\n            <td>-87.64089934</td>\n            <td>(41.926268719, -87.640899336)</td>\n        </tr>\n        <tr>\n            <td>516</td>\n            <td>3266814</td>\n            <td>HK238408</td>\n            <td>2004-03-13</td>\n            <td>093XX S STONY ISLAND AVE</td>\n            <td>2230</td>\n            <td>LIQUOR LAW VIOLATION</td>\n            <td>ILLEGAL CONSUMPTION BY MINOR</td>\n            <td>ALLEY</td>\n            <td>1</td>\n            <td>0</td>\n            <td>413</td>\n            <td>4</td>\n            <td>8.0</td>\n            <td>48.0</td>\n            <td>22</td>\n            <td>1188539.0</td>\n            <td>1843379.0</td>\n            <td>2004</td>\n            <td>41.72530099</td>\n            <td>-87.58496589</td>\n            <td>(41.72530099, -87.584965887)</td>\n        </tr>\n    </tbody>\n</table>",
                        "text/plain": "[(515, 3987219, 'HL266884', '2005-03-31', '024XX N CLARK ST', '2210', 'LIQUOR LAW VIOLATION', 'SELL/GIVE/DEL LIQUOR TO MINOR', 'CONVENIENCE STORE', 1, 0, 2333, 19, 43.0, 7.0, '22', 1172680.0, 1916483.0, 2005, 41.92626872, -87.64089934, '(41.926268719, -87.640899336)'),\n (516, 3266814, 'HK238408', '2004-03-13', '093XX S STONY ISLAND AVE', '2230', 'LIQUOR LAW VIOLATION', 'ILLEGAL CONSUMPTION BY MINOR', 'ALLEY', 1, 0, 413, 4, 8.0, 48.0, '22', 1188539.0, 1843379.0, 2004, 41.72530099, -87.58496589, '(41.72530099, -87.584965887)')]"
                    },
                    "execution_count": 100,
                    "metadata": {},
                    "output_type": "execute_result"
                }
            ]
        },
        {
            "metadata": {},
            "cell_type": "markdown",
            "source": "### Problem 3\n\n##### List all case numbers for crimes  involving minors?(children are not considered minors for the purposes of crime analysis)\n"
        },
        {
            "metadata": {},
            "cell_type": "code",
            "source": "%sql SELECT case_number FROM CHICAGO_CRIME_DATA where description like'%MINOR%'",
            "execution_count": 101,
            "outputs": [
                {
                    "name": "stdout",
                    "output_type": "stream",
                    "text": " * ibm_db_sa://jzs16447:***@764264db-9824-4b7c-82df-40d1b13897c2.bs2io90l08kqb1od8lcg.databases.appdomain.cloud:32536/BLUDB\nDone.\n"
                },
                {
                    "data": {
                        "text/html": "<table>\n    <thead>\n        <tr>\n            <th>case_number</th>\n        </tr>\n    </thead>\n    <tbody>\n        <tr>\n            <td>HL266884</td>\n        </tr>\n        <tr>\n            <td>HK238408</td>\n        </tr>\n    </tbody>\n</table>",
                        "text/plain": "[('HL266884',), ('HK238408',)]"
                    },
                    "execution_count": 101,
                    "metadata": {},
                    "output_type": "execute_result"
                }
            ]
        },
        {
            "metadata": {},
            "cell_type": "markdown",
            "source": "### Problem 4\n\n##### List all kidnapping crimes involving a child?\n"
        },
        {
            "metadata": {},
            "cell_type": "code",
            "source": "%sql select primary_type from CHICAGO_CRIME_DATA where primary_type like'%KID%' and description like'%CHILD%'",
            "execution_count": 102,
            "outputs": [
                {
                    "name": "stdout",
                    "output_type": "stream",
                    "text": " * ibm_db_sa://jzs16447:***@764264db-9824-4b7c-82df-40d1b13897c2.bs2io90l08kqb1od8lcg.databases.appdomain.cloud:32536/BLUDB\nDone.\n"
                },
                {
                    "data": {
                        "text/html": "<table>\n    <thead>\n        <tr>\n            <th>primary_type</th>\n        </tr>\n    </thead>\n    <tbody>\n        <tr>\n            <td>KIDNAPPING</td>\n        </tr>\n    </tbody>\n</table>",
                        "text/plain": "[('KIDNAPPING',)]"
                    },
                    "execution_count": 102,
                    "metadata": {},
                    "output_type": "execute_result"
                }
            ]
        },
        {
            "metadata": {},
            "cell_type": "code",
            "source": "# %sql select * from CHICAGO_PUBLIC_SCHOOLS\n\n%sql select * from CHICAGO_CRIME_DATA where location_description like'%SCHOOL%' \n# primary_type like'%SCHOOL%' \n#and description like'%CHILD%'",
            "execution_count": 103,
            "outputs": [
                {
                    "name": "stdout",
                    "output_type": "stream",
                    "text": " * ibm_db_sa://jzs16447:***@764264db-9824-4b7c-82df-40d1b13897c2.bs2io90l08kqb1od8lcg.databases.appdomain.cloud:32536/BLUDB\nDone.\n"
                },
                {
                    "data": {
                        "text/html": "<table>\n    <thead>\n        <tr>\n            <th>INDEX</th>\n            <th>id</th>\n            <th>case_number</th>\n            <th>DATE</th>\n            <th>block</th>\n            <th>iucr</th>\n            <th>primary_type</th>\n            <th>description</th>\n            <th>location_description</th>\n            <th>arrest</th>\n            <th>domestic</th>\n            <th>beat</th>\n            <th>district</th>\n            <th>ward</th>\n            <th>community_area_number</th>\n            <th>fbicode</th>\n            <th>x_coordinate</th>\n            <th>y_coordinate</th>\n            <th>YEAR</th>\n            <th>latitude</th>\n            <th>longitude</th>\n            <th>location</th>\n        </tr>\n    </thead>\n    <tbody>\n        <tr>\n            <td>119</td>\n            <td>4006321</td>\n            <td>HL353697</td>\n            <td>2005-05-04</td>\n            <td>077XX S BURNHAM AVE</td>\n            <td>460</td>\n            <td>BATTERY</td>\n            <td>SIMPLE</td>\n            <td>SCHOOL, PUBLIC, GROUNDS</td>\n            <td>0</td>\n            <td>0</td>\n            <td>421</td>\n            <td>4</td>\n            <td>7.0</td>\n            <td>43.0</td>\n            <td>08B</td>\n            <td>1196066.0</td>\n            <td>1854156.0</td>\n            <td>2005</td>\n            <td>41.75469107</td>\n            <td>-87.55703869</td>\n            <td>(41.754691074, -87.557038686)</td>\n        </tr>\n        <tr>\n            <td>122</td>\n            <td>4430638</td>\n            <td>HL725506</td>\n            <td>2005-11-09</td>\n            <td>048XX N FRANCISCO AVE</td>\n            <td>484</td>\n            <td>BATTERY</td>\n            <td>PRO EMP HANDS NO/MIN INJURY</td>\n            <td>SCHOOL, PUBLIC, BUILDING</td>\n            <td>1</td>\n            <td>0</td>\n            <td>2031</td>\n            <td>20</td>\n            <td>40.0</td>\n            <td>4.0</td>\n            <td>08B</td>\n            <td>1156348.0</td>\n            <td>1932071.0</td>\n            <td>2005</td>\n            <td>41.96938944</td>\n            <td>-87.70048881</td>\n            <td>(41.96938944, -87.700488807)</td>\n        </tr>\n        <tr>\n            <td>142</td>\n            <td>6644618</td>\n            <td>HP716225</td>\n            <td>2008-12-04</td>\n            <td>030XX S DR MARTIN LUTHER KING JR DR</td>\n            <td>460</td>\n            <td>BATTERY</td>\n            <td>SIMPLE</td>\n            <td>SCHOOL, PUBLIC, BUILDING</td>\n            <td>0</td>\n            <td>0</td>\n            <td>2112</td>\n            <td>1</td>\n            <td>2.0</td>\n            <td>35.0</td>\n            <td>08B</td>\n            <td>1179306.0</td>\n            <td>1885032.0</td>\n            <td>2008</td>\n            <td>41.83981621</td>\n            <td>-87.61751617</td>\n            <td>(41.839816207, -87.617516172)</td>\n        </tr>\n        <tr>\n            <td>167</td>\n            <td>2341955</td>\n            <td>HH639427</td>\n            <td>2002-09-10</td>\n            <td>005XX N WALLER AVE</td>\n            <td>460</td>\n            <td>BATTERY</td>\n            <td>SIMPLE</td>\n            <td>SCHOOL, PUBLIC, BUILDING</td>\n            <td>0</td>\n            <td>0</td>\n            <td>1512</td>\n            <td>15</td>\n            <td>29.0</td>\n            <td>25.0</td>\n            <td>08B</td>\n            <td>1138238.0</td>\n            <td>1903181.0</td>\n            <td>2002</td>\n            <td>41.89045993</td>\n            <td>-87.76778089</td>\n            <td>(41.890459933, -87.767780886)</td>\n        </tr>\n        <tr>\n            <td>184</td>\n            <td>11110571</td>\n            <td>JA460432</td>\n            <td>2017-10-05</td>\n            <td>076XX S HOMAN AVE</td>\n            <td>460</td>\n            <td>BATTERY</td>\n            <td>SIMPLE</td>\n            <td>SCHOOL, PUBLIC, GROUNDS</td>\n            <td>0</td>\n            <td>0</td>\n            <td>835</td>\n            <td>8</td>\n            <td>18.0</td>\n            <td>70.0</td>\n            <td>08B</td>\n            <td>1155024.0</td>\n            <td>1853614.0</td>\n            <td>2017</td>\n            <td>41.75412154</td>\n            <td>-87.70746025</td>\n            <td>(41.754121535, -87.707460248)</td>\n        </tr>\n        <tr>\n            <td>221</td>\n            <td>7399281</td>\n            <td>HS200939</td>\n            <td>2010-03-10</td>\n            <td>053XX W CONGRESS PKWY</td>\n            <td>1320</td>\n            <td>CRIMINAL DAMAGE</td>\n            <td>TO VEHICLE</td>\n            <td>SCHOOL, PUBLIC, GROUNDS</td>\n            <td>0</td>\n            <td>0</td>\n            <td>1522</td>\n            <td>15</td>\n            <td>29.0</td>\n            <td>25.0</td>\n            <td>14</td>\n            <td>1140822.0</td>\n            <td>1897164.0</td>\n            <td>2010</td>\n            <td>41.8739014</td>\n            <td>-87.7584391</td>\n            <td>(41.873901397, -87.758439102)</td>\n        </tr>\n        <tr>\n            <td>264</td>\n            <td>3530721</td>\n            <td>HK577020</td>\n            <td>2004-08-23</td>\n            <td>016XX W JONQUIL TER</td>\n            <td>2024</td>\n            <td>NARCOTICS</td>\n            <td>POSS: HEROIN(WHITE)</td>\n            <td>SCHOOL, PUBLIC, GROUNDS</td>\n            <td>1</td>\n            <td>0</td>\n            <td>2422</td>\n            <td>24</td>\n            <td>49.0</td>\n            <td>1.0</td>\n            <td>18</td>\n            <td>1163893.0</td>\n            <td>1951001.0</td>\n            <td>2004</td>\n            <td>42.0211776</td>\n            <td>-87.67220843</td>\n            <td>(42.021177601, -87.67220843)</td>\n        </tr>\n        <tr>\n            <td>266</td>\n            <td>7502426</td>\n            <td>HS305355</td>\n            <td>2010-05-13</td>\n            <td>035XX S WASHTENAW AVE</td>\n            <td>1821</td>\n            <td>NARCOTICS</td>\n            <td>MANU/DEL:CANNABIS 10GM OR LESS</td>\n            <td>SCHOOL, PUBLIC, BUILDING</td>\n            <td>1</td>\n            <td>0</td>\n            <td>913</td>\n            <td>9</td>\n            <td>12.0</td>\n            <td>58.0</td>\n            <td>18</td>\n            <td>1158944.0</td>\n            <td>1880896.0</td>\n            <td>2010</td>\n            <td>41.82890791</td>\n            <td>-87.69234919</td>\n            <td>(41.828907913, -87.692349187)</td>\n        </tr>\n        <tr>\n            <td>365</td>\n            <td>8082600</td>\n            <td>HT315369</td>\n            <td>2011-05-26</td>\n            <td>032XX W ADAMS ST</td>\n            <td>545</td>\n            <td>ASSAULT</td>\n            <td>PRO EMP HANDS NO/MIN INJURY</td>\n            <td>SCHOOL, PUBLIC, GROUNDS</td>\n            <td>0</td>\n            <td>0</td>\n            <td>1124</td>\n            <td>11</td>\n            <td>28.0</td>\n            <td>27.0</td>\n            <td>08A</td>\n            <td>1154752.0</td>\n            <td>1898890.0</td>\n            <td>2011</td>\n            <td>41.87837031</td>\n            <td>-87.70724814</td>\n            <td>(41.878370307, -87.707248137)</td>\n        </tr>\n        <tr>\n            <td>472</td>\n            <td>7174283</td>\n            <td>HR585012</td>\n            <td>2009-10-13</td>\n            <td>043XX W 79TH ST</td>\n            <td>1330</td>\n            <td>CRIMINAL TRESPASS</td>\n            <td>TO LAND</td>\n            <td>SCHOOL, PUBLIC, GROUNDS</td>\n            <td>1</td>\n            <td>0</td>\n            <td>834</td>\n            <td>8</td>\n            <td>13.0</td>\n            <td>70.0</td>\n            <td>26</td>\n            <td>1148764.0</td>\n            <td>1851854.0</td>\n            <td>2009</td>\n            <td>41.74941446</td>\n            <td>-87.7304466</td>\n            <td>(41.749414464, -87.730446597)</td>\n        </tr>\n        <tr>\n            <td>499</td>\n            <td>2075734</td>\n            <td>HH292682</td>\n            <td>2002-04-05</td>\n            <td>016XX W BRYN MAWR AV</td>\n            <td>2850</td>\n            <td>PUBLIC PEACE VIOLATION</td>\n            <td>BOMB THREAT</td>\n            <td>SCHOOL, PRIVATE, BUILDING</td>\n            <td>0</td>\n            <td>0</td>\n            <td>2012</td>\n            <td>20</td>\n            <td>None</td>\n            <td>None</td>\n            <td>26</td>\n            <td>None</td>\n            <td>None</td>\n            <td>2002</td>\n            <td>None</td>\n            <td>None</td>\n            <td>None</td>\n        </tr>\n        <tr>\n            <td>500</td>\n            <td>1806896</td>\n            <td>G635735</td>\n            <td>2001-10-22</td>\n            <td>0000X N HERMITAGE AV</td>\n            <td>2850</td>\n            <td>PUBLIC PEACE VIOLATION</td>\n            <td>BOMB THREAT</td>\n            <td>SCHOOL, PUBLIC, BUILDING</td>\n            <td>1</td>\n            <td>0</td>\n            <td>1333</td>\n            <td>12</td>\n            <td>None</td>\n            <td>None</td>\n            <td>26</td>\n            <td>1164687.0</td>\n            <td>1900646.0</td>\n            <td>2001</td>\n            <td>41.88298425</td>\n            <td>-87.67071922</td>\n            <td>(41.882984246, -87.670719218)</td>\n        </tr>\n    </tbody>\n</table>",
                        "text/plain": "[(119, 4006321, 'HL353697', '2005-05-04', '077XX S BURNHAM AVE', '460', 'BATTERY', 'SIMPLE', 'SCHOOL, PUBLIC, GROUNDS', 0, 0, 421, 4, 7.0, 43.0, '08B', 1196066.0, 1854156.0, 2005, 41.75469107, -87.55703869, '(41.754691074, -87.557038686)'),\n (122, 4430638, 'HL725506', '2005-11-09', '048XX N FRANCISCO AVE', '484', 'BATTERY', 'PRO EMP HANDS NO/MIN INJURY', 'SCHOOL, PUBLIC, BUILDING', 1, 0, 2031, 20, 40.0, 4.0, '08B', 1156348.0, 1932071.0, 2005, 41.96938944, -87.70048881, '(41.96938944, -87.700488807)'),\n (142, 6644618, 'HP716225', '2008-12-04', '030XX S DR MARTIN LUTHER KING JR DR', '460', 'BATTERY', 'SIMPLE', 'SCHOOL, PUBLIC, BUILDING', 0, 0, 2112, 1, 2.0, 35.0, '08B', 1179306.0, 1885032.0, 2008, 41.83981621, -87.61751617, '(41.839816207, -87.617516172)'),\n (167, 2341955, 'HH639427', '2002-09-10', '005XX N WALLER AVE', '460', 'BATTERY', 'SIMPLE', 'SCHOOL, PUBLIC, BUILDING', 0, 0, 1512, 15, 29.0, 25.0, '08B', 1138238.0, 1903181.0, 2002, 41.89045993, -87.76778089, '(41.890459933, -87.767780886)'),\n (184, 11110571, 'JA460432', '2017-10-05', '076XX S HOMAN AVE', '460', 'BATTERY', 'SIMPLE', 'SCHOOL, PUBLIC, GROUNDS', 0, 0, 835, 8, 18.0, 70.0, '08B', 1155024.0, 1853614.0, 2017, 41.75412154, -87.70746025, '(41.754121535, -87.707460248)'),\n (221, 7399281, 'HS200939', '2010-03-10', '053XX W CONGRESS PKWY', '1320', 'CRIMINAL DAMAGE', 'TO VEHICLE', 'SCHOOL, PUBLIC, GROUNDS', 0, 0, 1522, 15, 29.0, 25.0, '14', 1140822.0, 1897164.0, 2010, 41.8739014, -87.7584391, '(41.873901397, -87.758439102)'),\n (264, 3530721, 'HK577020', '2004-08-23', '016XX W JONQUIL TER', '2024', 'NARCOTICS', 'POSS: HEROIN(WHITE)', 'SCHOOL, PUBLIC, GROUNDS', 1, 0, 2422, 24, 49.0, 1.0, '18', 1163893.0, 1951001.0, 2004, 42.0211776, -87.67220843, '(42.021177601, -87.67220843)'),\n (266, 7502426, 'HS305355', '2010-05-13', '035XX S WASHTENAW AVE', '1821', 'NARCOTICS', 'MANU/DEL:CANNABIS 10GM OR LESS', 'SCHOOL, PUBLIC, BUILDING', 1, 0, 913, 9, 12.0, 58.0, '18', 1158944.0, 1880896.0, 2010, 41.82890791, -87.69234919, '(41.828907913, -87.692349187)'),\n (365, 8082600, 'HT315369', '2011-05-26', '032XX W ADAMS ST', '545', 'ASSAULT', 'PRO EMP HANDS NO/MIN INJURY', 'SCHOOL, PUBLIC, GROUNDS', 0, 0, 1124, 11, 28.0, 27.0, '08A', 1154752.0, 1898890.0, 2011, 41.87837031, -87.70724814, '(41.878370307, -87.707248137)'),\n (472, 7174283, 'HR585012', '2009-10-13', '043XX W 79TH ST', '1330', 'CRIMINAL TRESPASS', 'TO LAND', 'SCHOOL, PUBLIC, GROUNDS', 1, 0, 834, 8, 13.0, 70.0, '26', 1148764.0, 1851854.0, 2009, 41.74941446, -87.7304466, '(41.749414464, -87.730446597)'),\n (499, 2075734, 'HH292682', '2002-04-05', '016XX W BRYN MAWR AV', '2850', 'PUBLIC PEACE VIOLATION', 'BOMB THREAT', 'SCHOOL, PRIVATE, BUILDING', 0, 0, 2012, 20, None, None, '26', None, None, 2002, None, None, None),\n (500, 1806896, 'G635735', '2001-10-22', '0000X N HERMITAGE AV', '2850', 'PUBLIC PEACE VIOLATION', 'BOMB THREAT', 'SCHOOL, PUBLIC, BUILDING', 1, 0, 1333, 12, None, None, '26', 1164687.0, 1900646.0, 2001, 41.88298425, -87.67071922, '(41.882984246, -87.670719218)')]"
                    },
                    "execution_count": 103,
                    "metadata": {},
                    "output_type": "execute_result"
                }
            ]
        },
        {
            "metadata": {},
            "cell_type": "code",
            "source": "%sql select name_of_school, c.primary_type from CHICAGO_CRIME_DATA c, CHICAGO_PUBLIC_SCHOOLS s\\\nwhere c.community_area_number = s.community_area_number limit 5;",
            "execution_count": 104,
            "outputs": [
                {
                    "name": "stdout",
                    "output_type": "stream",
                    "text": " * ibm_db_sa://jzs16447:***@764264db-9824-4b7c-82df-40d1b13897c2.bs2io90l08kqb1od8lcg.databases.appdomain.cloud:32536/BLUDB\nDone.\n"
                },
                {
                    "data": {
                        "text/html": "<table>\n    <thead>\n        <tr>\n            <th>name_of_school</th>\n            <th>primary_type</th>\n        </tr>\n    </thead>\n    <tbody>\n        <tr>\n            <td>Jensen Elementary Scholastic Academy</td>\n            <td>BATTERY</td>\n        </tr>\n        <tr>\n            <td>Jensen Elementary Scholastic Academy</td>\n            <td>NARCOTICS</td>\n        </tr>\n        <tr>\n            <td>Jensen Elementary Scholastic Academy</td>\n            <td>INTERFERENCE WITH PUBLIC OFFICER</td>\n        </tr>\n        <tr>\n            <td>Jensen Elementary Scholastic Academy</td>\n            <td>ASSAULT</td>\n        </tr>\n        <tr>\n            <td>Jensen Elementary Scholastic Academy</td>\n            <td>ASSAULT</td>\n        </tr>\n    </tbody>\n</table>",
                        "text/plain": "[('Jensen Elementary Scholastic Academy', 'BATTERY'),\n ('Jensen Elementary Scholastic Academy', 'NARCOTICS'),\n ('Jensen Elementary Scholastic Academy', 'INTERFERENCE WITH PUBLIC OFFICER'),\n ('Jensen Elementary Scholastic Academy', 'ASSAULT'),\n ('Jensen Elementary Scholastic Academy', 'ASSAULT')]"
                    },
                    "execution_count": 104,
                    "metadata": {},
                    "output_type": "execute_result"
                }
            ]
        },
        {
            "metadata": {},
            "cell_type": "code",
            "source": "",
            "execution_count": null,
            "outputs": []
        },
        {
            "metadata": {},
            "cell_type": "markdown",
            "source": "### Problem 5\n\n##### What kinds of crimes were recorded at schools?\n"
        },
        {
            "metadata": {},
            "cell_type": "code",
            "source": "%sql select distinct c.primary_type from CHICAGO_CRIME_DATA c, CHICAGO_PUBLIC_SCHOOLS s \\\nwhere c.community_area_number = s.community_area_number limit 5;",
            "execution_count": 105,
            "outputs": [
                {
                    "name": "stdout",
                    "output_type": "stream",
                    "text": " * ibm_db_sa://jzs16447:***@764264db-9824-4b7c-82df-40d1b13897c2.bs2io90l08kqb1od8lcg.databases.appdomain.cloud:32536/BLUDB\nDone.\n"
                },
                {
                    "data": {
                        "text/html": "<table>\n    <thead>\n        <tr>\n            <th>primary_type</th>\n        </tr>\n    </thead>\n    <tbody>\n        <tr>\n            <td>ARSON</td>\n        </tr>\n        <tr>\n            <td>ASSAULT</td>\n        </tr>\n        <tr>\n            <td>BATTERY</td>\n        </tr>\n        <tr>\n            <td>BURGLARY</td>\n        </tr>\n        <tr>\n            <td>CONCEALED CARRY LICENSE VIOLATION</td>\n        </tr>\n    </tbody>\n</table>",
                        "text/plain": "[('ARSON',),\n ('ASSAULT',),\n ('BATTERY',),\n ('BURGLARY',),\n ('CONCEALED CARRY LICENSE VIOLATION',)]"
                    },
                    "execution_count": 105,
                    "metadata": {},
                    "output_type": "execute_result"
                }
            ]
        },
        {
            "metadata": {},
            "cell_type": "code",
            "source": "%sql select distinct primary_type from CHICAGO_CRIME_DATA where location_description like'%SCHOOL%'",
            "execution_count": 106,
            "outputs": [
                {
                    "name": "stdout",
                    "output_type": "stream",
                    "text": " * ibm_db_sa://jzs16447:***@764264db-9824-4b7c-82df-40d1b13897c2.bs2io90l08kqb1od8lcg.databases.appdomain.cloud:32536/BLUDB\nDone.\n"
                },
                {
                    "data": {
                        "text/html": "<table>\n    <thead>\n        <tr>\n            <th>primary_type</th>\n        </tr>\n    </thead>\n    <tbody>\n        <tr>\n            <td>ASSAULT</td>\n        </tr>\n        <tr>\n            <td>BATTERY</td>\n        </tr>\n        <tr>\n            <td>CRIMINAL DAMAGE</td>\n        </tr>\n        <tr>\n            <td>CRIMINAL TRESPASS</td>\n        </tr>\n        <tr>\n            <td>NARCOTICS</td>\n        </tr>\n        <tr>\n            <td>PUBLIC PEACE VIOLATION</td>\n        </tr>\n    </tbody>\n</table>",
                        "text/plain": "[('ASSAULT',),\n ('BATTERY',),\n ('CRIMINAL DAMAGE',),\n ('CRIMINAL TRESPASS',),\n ('NARCOTICS',),\n ('PUBLIC PEACE VIOLATION',)]"
                    },
                    "execution_count": 106,
                    "metadata": {},
                    "output_type": "execute_result"
                }
            ]
        },
        {
            "metadata": {},
            "cell_type": "code",
            "source": "",
            "execution_count": null,
            "outputs": []
        },
        {
            "metadata": {},
            "cell_type": "markdown",
            "source": "### Problem 6\n\n##### List the average safety score for all types of schools.\n"
        },
        {
            "metadata": {},
            "cell_type": "code",
            "source": "%sql select \"Elementary, Middle, or High School\", avg(SAFETY_SCORE) from CHICAGO_PUBLIC_SCHOOLS group by \"Elementary, Middle, or High School\"",
            "execution_count": 107,
            "outputs": [
                {
                    "name": "stdout",
                    "output_type": "stream",
                    "text": " * ibm_db_sa://jzs16447:***@764264db-9824-4b7c-82df-40d1b13897c2.bs2io90l08kqb1od8lcg.databases.appdomain.cloud:32536/BLUDB\nDone.\n"
                },
                {
                    "data": {
                        "text/html": "<table>\n    <thead>\n        <tr>\n            <th>Elementary, Middle, or High School</th>\n            <th>2</th>\n        </tr>\n    </thead>\n    <tbody>\n        <tr>\n            <td>ES</td>\n            <td>49</td>\n        </tr>\n        <tr>\n            <td>HS</td>\n            <td>49</td>\n        </tr>\n        <tr>\n            <td>MS</td>\n            <td>48</td>\n        </tr>\n    </tbody>\n</table>",
                        "text/plain": "[('ES', 49), ('HS', 49), ('MS', 48)]"
                    },
                    "execution_count": 107,
                    "metadata": {},
                    "output_type": "execute_result"
                }
            ]
        },
        {
            "metadata": {},
            "cell_type": "markdown",
            "source": "### Problem 7\n\n##### List 5 community areas with highest % of households below poverty line\n"
        },
        {
            "metadata": {},
            "cell_type": "code",
            "source": "%sql SELECT community_area_name, percent_households_below_poverty FROM CENSUS_DATA order by 2 desc limit 5;",
            "execution_count": 108,
            "outputs": [
                {
                    "name": "stdout",
                    "output_type": "stream",
                    "text": " * ibm_db_sa://jzs16447:***@764264db-9824-4b7c-82df-40d1b13897c2.bs2io90l08kqb1od8lcg.databases.appdomain.cloud:32536/BLUDB\nDone.\n"
                },
                {
                    "data": {
                        "text/html": "<table>\n    <thead>\n        <tr>\n            <th>community_area_name</th>\n            <th>percent_households_below_poverty</th>\n        </tr>\n    </thead>\n    <tbody>\n        <tr>\n            <td>Riverdale</td>\n            <td>56.5</td>\n        </tr>\n        <tr>\n            <td>Fuller Park</td>\n            <td>51.2</td>\n        </tr>\n        <tr>\n            <td>Englewood</td>\n            <td>46.6</td>\n        </tr>\n        <tr>\n            <td>North Lawndale</td>\n            <td>43.1</td>\n        </tr>\n        <tr>\n            <td>East Garfield Park</td>\n            <td>42.4</td>\n        </tr>\n    </tbody>\n</table>",
                        "text/plain": "[('Riverdale', Decimal('56.5')),\n ('Fuller Park', Decimal('51.2')),\n ('Englewood', Decimal('46.6')),\n ('North Lawndale', Decimal('43.1')),\n ('East Garfield Park', Decimal('42.4'))]"
                    },
                    "execution_count": 108,
                    "metadata": {},
                    "output_type": "execute_result"
                }
            ]
        },
        {
            "metadata": {},
            "cell_type": "markdown",
            "source": "### Problem 8\n\n##### Which community area is most crime prone?\n"
        },
        {
            "metadata": {},
            "cell_type": "code",
            "source": "%sql select community_area_number, count(1) as \"Qty_of_crime\" from CHICAGO_CRIME_DATA group by community_area_number order by 2 desc limit 1",
            "execution_count": 109,
            "outputs": [
                {
                    "name": "stdout",
                    "output_type": "stream",
                    "text": " * ibm_db_sa://jzs16447:***@764264db-9824-4b7c-82df-40d1b13897c2.bs2io90l08kqb1od8lcg.databases.appdomain.cloud:32536/BLUDB\nDone.\n"
                },
                {
                    "data": {
                        "text/html": "<table>\n    <thead>\n        <tr>\n            <th>community_area_number</th>\n            <th>Qty_of_crime</th>\n        </tr>\n    </thead>\n    <tbody>\n        <tr>\n            <td>25.0</td>\n            <td>43</td>\n        </tr>\n    </tbody>\n</table>",
                        "text/plain": "[(25.0, 43)]"
                    },
                    "execution_count": 109,
                    "metadata": {},
                    "output_type": "execute_result"
                }
            ]
        },
        {
            "metadata": {},
            "cell_type": "code",
            "source": "%%sql \nselect \n    c1.community_area_number, \n    count(c1.community_area_number) as Qty_of_crime \nfrom CHICAGO_CRIME_DATA c1\ngroup by c1.community_area_number \nhaving Qty_of_crime = max (select count(c2.community_area_number) from CHICAGO_CRIME_DATA c2 group by c2.community_area_number)",
            "execution_count": 110,
            "outputs": [
                {
                    "name": "stdout",
                    "output_type": "stream",
                    "text": " * ibm_db_sa://jzs16447:***@764264db-9824-4b7c-82df-40d1b13897c2.bs2io90l08kqb1od8lcg.databases.appdomain.cloud:32536/BLUDB\n(ibm_db_dbi.ProgrammingError) ibm_db_dbi::ProgrammingError: SQLNumResultCols failed: [IBM][CLI Driver][DB2/LINUXX8664] SQL0104N  An unexpected token \"count\" was found following \"_crime = max (select\".  Expected tokens may include:  \"CONCAT\".  SQLSTATE=42601 SQLCODE=-104\n[SQL: select \n    c1.community_area_number, \n    count(c1.community_area_number) as Qty_of_crime \nfrom CHICAGO_CRIME_DATA c1\ngroup by c1.community_area_number \nhaving Qty_of_crime = max (select count(c2.community_area_number) from CHICAGO_CRIME_DATA c2 group by c2.community_area_number)]\n(Background on this error at: http://sqlalche.me/e/13/f405)\n"
                }
            ]
        },
        {
            "metadata": {},
            "cell_type": "code",
            "source": "%%sql \nselect count(c2.community_area_number) from CHICAGO_CRIME_DATA c2 group by c2.community_area_number",
            "execution_count": 111,
            "outputs": [
                {
                    "name": "stdout",
                    "output_type": "stream",
                    "text": " * ibm_db_sa://jzs16447:***@764264db-9824-4b7c-82df-40d1b13897c2.bs2io90l08kqb1od8lcg.databases.appdomain.cloud:32536/BLUDB\nDone.\n"
                },
                {
                    "data": {
                        "text/html": "<table>\n    <thead>\n        <tr>\n            <th>1</th>\n        </tr>\n    </thead>\n    <tbody>\n        <tr>\n            <td>6</td>\n        </tr>\n        <tr>\n            <td>7</td>\n        </tr>\n        <tr>\n            <td>4</td>\n        </tr>\n        <tr>\n            <td>3</td>\n        </tr>\n        <tr>\n            <td>4</td>\n        </tr>\n        <tr>\n            <td>11</td>\n        </tr>\n        <tr>\n            <td>5</td>\n        </tr>\n        <tr>\n            <td>15</td>\n        </tr>\n        <tr>\n            <td>3</td>\n        </tr>\n        <tr>\n            <td>2</td>\n        </tr>\n        <tr>\n            <td>1</td>\n        </tr>\n        <tr>\n            <td>5</td>\n        </tr>\n        <tr>\n            <td>5</td>\n        </tr>\n        <tr>\n            <td>8</td>\n        </tr>\n        <tr>\n            <td>3</td>\n        </tr>\n        <tr>\n            <td>2</td>\n        </tr>\n        <tr>\n            <td>8</td>\n        </tr>\n        <tr>\n            <td>3</td>\n        </tr>\n        <tr>\n            <td>6</td>\n        </tr>\n        <tr>\n            <td>9</td>\n        </tr>\n        <tr>\n            <td>22</td>\n        </tr>\n        <tr>\n            <td>13</td>\n        </tr>\n        <tr>\n            <td>43</td>\n        </tr>\n        <tr>\n            <td>10</td>\n        </tr>\n        <tr>\n            <td>8</td>\n        </tr>\n        <tr>\n            <td>16</td>\n        </tr>\n        <tr>\n            <td>16</td>\n        </tr>\n        <tr>\n            <td>8</td>\n        </tr>\n        <tr>\n            <td>9</td>\n        </tr>\n        <tr>\n            <td>7</td>\n        </tr>\n        <tr>\n            <td>1</td>\n        </tr>\n        <tr>\n            <td>5</td>\n        </tr>\n        <tr>\n            <td>2</td>\n        </tr>\n        <tr>\n            <td>8</td>\n        </tr>\n        <tr>\n            <td>4</td>\n        </tr>\n        <tr>\n            <td>2</td>\n        </tr>\n        <tr>\n            <td>8</td>\n        </tr>\n        <tr>\n            <td>9</td>\n        </tr>\n        <tr>\n            <td>8</td>\n        </tr>\n        <tr>\n            <td>4</td>\n        </tr>\n        <tr>\n            <td>9</td>\n        </tr>\n        <tr>\n            <td>1</td>\n        </tr>\n        <tr>\n            <td>5</td>\n        </tr>\n        <tr>\n            <td>11</td>\n        </tr>\n        <tr>\n            <td>3</td>\n        </tr>\n        <tr>\n            <td>4</td>\n        </tr>\n        <tr>\n            <td>2</td>\n        </tr>\n        <tr>\n            <td>6</td>\n        </tr>\n        <tr>\n            <td>2</td>\n        </tr>\n        <tr>\n            <td>1</td>\n        </tr>\n        <tr>\n            <td>2</td>\n        </tr>\n        <tr>\n            <td>10</td>\n        </tr>\n        <tr>\n            <td>2</td>\n        </tr>\n        <tr>\n            <td>1</td>\n        </tr>\n        <tr>\n            <td>10</td>\n        </tr>\n        <tr>\n            <td>4</td>\n        </tr>\n        <tr>\n            <td>7</td>\n        </tr>\n        <tr>\n            <td>2</td>\n        </tr>\n        <tr>\n            <td>3</td>\n        </tr>\n        <tr>\n            <td>12</td>\n        </tr>\n        <tr>\n            <td>12</td>\n        </tr>\n        <tr>\n            <td>21</td>\n        </tr>\n        <tr>\n            <td>11</td>\n        </tr>\n        <tr>\n            <td>8</td>\n        </tr>\n        <tr>\n            <td>14</td>\n        </tr>\n        <tr>\n            <td>4</td>\n        </tr>\n        <tr>\n            <td>3</td>\n        </tr>\n        <tr>\n            <td>1</td>\n        </tr>\n        <tr>\n            <td>4</td>\n        </tr>\n        <tr>\n            <td>2</td>\n        </tr>\n        <tr>\n            <td>0</td>\n        </tr>\n    </tbody>\n</table>",
                        "text/plain": "[(6,),\n (7,),\n (4,),\n (3,),\n (4,),\n (11,),\n (5,),\n (15,),\n (3,),\n (2,),\n (1,),\n (5,),\n (5,),\n (8,),\n (3,),\n (2,),\n (8,),\n (3,),\n (6,),\n (9,),\n (22,),\n (13,),\n (43,),\n (10,),\n (8,),\n (16,),\n (16,),\n (8,),\n (9,),\n (7,),\n (1,),\n (5,),\n (2,),\n (8,),\n (4,),\n (2,),\n (8,),\n (9,),\n (8,),\n (4,),\n (9,),\n (1,),\n (5,),\n (11,),\n (3,),\n (4,),\n (2,),\n (6,),\n (2,),\n (1,),\n (2,),\n (10,),\n (2,),\n (1,),\n (10,),\n (4,),\n (7,),\n (2,),\n (3,),\n (12,),\n (12,),\n (21,),\n (11,),\n (8,),\n (14,),\n (4,),\n (3,),\n (1,),\n (4,),\n (2,),\n (0,)]"
                    },
                    "execution_count": 111,
                    "metadata": {},
                    "output_type": "execute_result"
                }
            ]
        },
        {
            "metadata": {},
            "cell_type": "markdown",
            "source": "Double-click **here** for a hint\n\n<!--\nQuery for the 'community area number' that is most crime prone.\n-->\n"
        },
        {
            "metadata": {},
            "cell_type": "markdown",
            "source": "### Problem 9\n\n##### Use a sub-query to find the name of the community area with highest hardship index\n"
        },
        {
            "metadata": {},
            "cell_type": "code",
            "source": "#%sql select community_area_name, hardship_index from CENSUS_DATA order by hardship_index desc nulls last limit 1\n%sql select community_area_name,* from CENSUS_DATA where hardship_index = (select max(hardship_index) from CENSUS_DATA)",
            "execution_count": 112,
            "outputs": [
                {
                    "name": "stdout",
                    "output_type": "stream",
                    "text": " * ibm_db_sa://jzs16447:***@764264db-9824-4b7c-82df-40d1b13897c2.bs2io90l08kqb1od8lcg.databases.appdomain.cloud:32536/BLUDB\nDone.\n"
                },
                {
                    "data": {
                        "text/html": "<table>\n    <thead>\n        <tr>\n            <th>community_area_name</th>\n            <th>community_area_number</th>\n            <th>community_area_name_1</th>\n            <th>percent_of_housing_crowded</th>\n            <th>percent_households_below_poverty</th>\n            <th>percent_aged_16__unemployed</th>\n            <th>percent_aged_25__without_high_school_diploma</th>\n            <th>percent_aged_under_18_or_over_64</th>\n            <th>per_capita_income</th>\n            <th>hardship_index</th>\n        </tr>\n    </thead>\n    <tbody>\n        <tr>\n            <td>Riverdale</td>\n            <td>54</td>\n            <td>Riverdale</td>\n            <td>5.8</td>\n            <td>56.5</td>\n            <td>34.6</td>\n            <td>27.5</td>\n            <td>51.5</td>\n            <td>8201</td>\n            <td>98</td>\n        </tr>\n    </tbody>\n</table>",
                        "text/plain": "[('Riverdale', 54, 'Riverdale', Decimal('5.8'), Decimal('56.5'), Decimal('34.6'), Decimal('27.5'), Decimal('51.5'), 8201, 98)]"
                    },
                    "execution_count": 112,
                    "metadata": {},
                    "output_type": "execute_result"
                }
            ]
        },
        {
            "metadata": {},
            "cell_type": "markdown",
            "source": "### Problem 10\n\n##### Use a sub-query to determine the Community Area Name with most number of crimes?\n"
        },
        {
            "metadata": {},
            "cell_type": "code",
            "source": "%%sql \n\nselect \n    s.community_area_number, \n    s.community_area_name \nfrom \n    CENSUS_DATA s \nwhere     s.community_area_number = (select c.community_area_number from CHICAGO_CRIME_DATA c group by c.community_area_number order by count(c.community_area_number) desc limit 1)\n",
            "execution_count": 113,
            "outputs": [
                {
                    "name": "stdout",
                    "output_type": "stream",
                    "text": " * ibm_db_sa://jzs16447:***@764264db-9824-4b7c-82df-40d1b13897c2.bs2io90l08kqb1od8lcg.databases.appdomain.cloud:32536/BLUDB\nDone.\n"
                },
                {
                    "data": {
                        "text/html": "<table>\n    <thead>\n        <tr>\n            <th>community_area_number</th>\n            <th>community_area_name</th>\n        </tr>\n    </thead>\n    <tbody>\n        <tr>\n            <td>25</td>\n            <td>Austin</td>\n        </tr>\n    </tbody>\n</table>",
                        "text/plain": "[(25, 'Austin')]"
                    },
                    "execution_count": 113,
                    "metadata": {},
                    "output_type": "execute_result"
                }
            ]
        },
        {
            "metadata": {},
            "cell_type": "markdown",
            "source": "Copyright \u00a9 2020 [cognitiveclass.ai](cognitiveclass.ai?utm_source=bducopyrightlink&utm_medium=dswb&utm_campaign=bdu). This notebook and its source code are released under the terms of the [MIT License](https://bigdatauniversity.com/mit-license?utm_medium=Exinfluencer&utm_source=Exinfluencer&utm_content=000026UJ&utm_term=10006555&utm_id=NA-SkillsNetwork-Channel-SkillsNetworkCoursesIBMDeveloperSkillsNetworkDB0201ENSkillsNetwork20127838-2021-01-01&cm_mmc=Email_Newsletter-\\_-Developer_Ed%2BTech-\\_-WW_WW-\\_-SkillsNetwork-Courses-IBMDeveloperSkillsNetwork-DB0201EN-SkillsNetwork-20127838&cm_mmca1=000026UJ&cm_mmca2=10006555&cm_mmca3=M12345678&cvosrc=email.Newsletter.M12345678&cvo_campaign=000026UJ).\n"
        },
        {
            "metadata": {},
            "cell_type": "markdown",
            "source": "## Author(s)\n\n<h4> Hima Vasudevan </h4>\n<h4> Rav Ahuja </h4>\n<h4> Ramesh Sannreddy </h4>\n\n## Contribtuor(s)\n\n<h4> Malika Singla </h4>\n\n## Change log\n\n| Date       | Version | Changed by        | Change Description                             |\n| ---------- | ------- | ----------------- | ---------------------------------------------- |\n| 2021-11-17 | 2.6     | Lakshmi           | Updated library                                |\n| 2021-05-19 | 2.4     | Lakshmi Holla     | Updated the question                           |\n| 2021-04-30 | 2.3     | Malika Singla     | Updated the libraries                          |\n| 2021-01-15 | 2.2     | Rav Ahuja         | Removed problem 11 and fixed changelog         |\n| 2020-11-25 | 2.1     | Ramesh Sannareddy | Updated the problem statements, and datasets   |\n| 2020-09-05 | 2.0     | Malika Singla     | Moved lab to course repo in GitLab             |\n| 2018-07-18 | 1.0     | Rav Ahuja         | Several updates including loading instructions |\n| 2018-05-04 | 0.1     | Hima Vasudevan    | Created initial version                        |\n\n## <h3 align=\"center\"> \u00a9 IBM Corporation 2020. All rights reserved. <h3/>\n"
        }
    ],
    "metadata": {
        "kernelspec": {
            "name": "python3",
            "display_name": "Python 3.8",
            "language": "python"
        },
        "language_info": {
            "name": "python",
            "version": "3.8.12",
            "mimetype": "text/x-python",
            "codemirror_mode": {
                "name": "ipython",
                "version": 3
            },
            "pygments_lexer": "ipython3",
            "nbconvert_exporter": "python",
            "file_extension": ".py"
        },
        "widgets": {
            "state": {},
            "version": "1.1.2"
        }
    },
    "nbformat": 4,
    "nbformat_minor": 4
}